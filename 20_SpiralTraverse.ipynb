{
  "nbformat": 4,
  "nbformat_minor": 0,
  "metadata": {
    "colab": {
      "name": "SpiralTraverse.ipynb",
      "provenance": [],
      "collapsed_sections": []
    },
    "kernelspec": {
      "name": "python3",
      "display_name": "Python 3"
    }
  },
  "cells": [
    {
      "cell_type": "code",
      "metadata": {
        "id": "PKsqhFu-9ehy",
        "colab_type": "code",
        "colab": {}
      },
      "source": [
        "#O(n) time | O(n) space\n",
        "def spiralTraverse(array):\n",
        "\tresult=[]\n",
        "\tstartRow,endRow=0,len(array)-1\n",
        "\tstartCol,endCol =0, len(array[0])-1\n",
        "\t\n",
        "\twhile startRow <= endRow and startCol <= endCol:\n",
        "\t\tfor col in range(startCol,endCol+1):\n",
        "\t\t\tresult.append(array[startRow][col])\n",
        "\t\t\n",
        "\t\tfor row in range(startRow+1,endRow+1):\n",
        "\t\t\tresult.append(array[row][endCol])\n",
        "\t\t\n",
        "\t\tfor col in reversed(range(startCol, endCol)):\n",
        "\t\t\tif startRow == endRow:\n",
        "\t\t\t\tbreak\n",
        "\t\t\tresult.append(array[endRow][col])\n",
        "\t\t\t\n",
        "\t\tfor row in reversed(range(startRow+1,endRow)):\n",
        "\t\t\tif startCol == endCol:\n",
        "\t\t\t\tbreak\n",
        "\t\t\tresult.append(array[row][startCol])\n",
        "\t\tstartRow+=1\n",
        "\t\tendRow-=1\n",
        "\t\tstartCol+=1\n",
        "\t\tendCol -=1\n",
        "\treturn result"
      ],
      "execution_count": 0,
      "outputs": []
    }
  ]
}