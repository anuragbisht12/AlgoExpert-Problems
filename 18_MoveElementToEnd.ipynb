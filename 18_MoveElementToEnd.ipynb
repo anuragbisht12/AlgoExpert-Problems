{
  "nbformat": 4,
  "nbformat_minor": 0,
  "metadata": {
    "colab": {
      "name": "MoveElementToEnd.ipynb",
      "provenance": [],
      "collapsed_sections": []
    },
    "kernelspec": {
      "name": "python3",
      "display_name": "Python 3"
    }
  },
  "cells": [
    {
      "cell_type": "code",
      "metadata": {
        "id": "fGSxclEGrDlB",
        "colab_type": "code",
        "colab": {}
      },
      "source": [
        "#O(n) time | O(1) space - where n is the length of the array\n",
        "def moveElementToEnd(array, toMove):\n",
        "    i=0\n",
        "\tj=len(array)-1\n",
        "\twhile i<j:\n",
        "\t\twhile i<j and array[j]==toMove:\n",
        "\t\t\tj-=1\n",
        "\t\tif array[i]==toMove:\n",
        "\t\t\tarray[i],array[j]=array[j],array[i]\n",
        "\t\ti+=1\n",
        "\t\t\n",
        "\treturn array\n",
        "\n"
      ],
      "execution_count": 0,
      "outputs": []
    }
  ]
}