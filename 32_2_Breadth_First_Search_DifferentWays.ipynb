{
  "nbformat": 4,
  "nbformat_minor": 0,
  "metadata": {
    "colab": {
      "name": "Breadth First Search_DifferentWays.ipynb",
      "provenance": [],
      "collapsed_sections": []
    },
    "kernelspec": {
      "name": "python3",
      "display_name": "Python 3"
    }
  },
  "cells": [
    {
      "cell_type": "code",
      "metadata": {
        "id": "4_xskyLpQi2J",
        "colab_type": "code",
        "colab": {}
      },
      "source": [
        "# method 1\n",
        "# O(v+e) time | O(v) space\n",
        "class Node:\n",
        "  def __init__(self,name):\n",
        "    self.children=[]\n",
        "    self.name=name\n",
        "  \n",
        "  def addChild(self,Node):\n",
        "    self.children.append(Node(name))\n",
        "    return self\n",
        "  \n",
        "  def BreadthFirstSearch(self,array):\n",
        "    queue=[self]\n",
        "    while len(queue)>0:\n",
        "      current=queue.pop(0)\n",
        "      array.append(current.name)\n",
        "      for child in current.children:\n",
        "        queue.apppend(child)\n",
        "\n",
        "    return array\n"
      ],
      "execution_count": null,
      "outputs": []
    },
    {
      "cell_type": "code",
      "metadata": {
        "id": "nixJ9-9gSp5N",
        "colab_type": "code",
        "colab": {}
      },
      "source": [
        "# method 2\n",
        "# graph: List[List[int]]\n",
        "from collections import deque\n",
        "def bfs(graph,s):\n",
        "  visited=set()\n",
        "  queue=deque()\n",
        "  visited.add(s)\n",
        "  queue.appendleft(s)\n",
        "  while queue:\n",
        "    currentIdx=queue.pop()\n",
        "    print(currentIdx)\n",
        "\n",
        "    for v in graph[currentIdx]:\n",
        "      if v not in visited:\n",
        "        visited.add(v)\n",
        "        queue.appendleft(v)\n",
        "\n"
      ],
      "execution_count": null,
      "outputs": []
    }
  ]
}