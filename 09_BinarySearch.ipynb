{
  "nbformat": 4,
  "nbformat_minor": 0,
  "metadata": {
    "colab": {
      "name": "BinarySearch.ipynb",
      "provenance": [],
      "collapsed_sections": []
    },
    "kernelspec": {
      "name": "python3",
      "display_name": "Python 3"
    }
  },
  "cells": [
    {
      "cell_type": "code",
      "metadata": {
        "id": "R2Z8QDcmZGp1",
        "colab_type": "code",
        "colab": {}
      },
      "source": [
        "def binarySearch(array, target):\n",
        "    array.sort()\n",
        "\treturn binarySearchHelper(array,target,0,len(array)-1)\n",
        "\n",
        "# O(log(N)) and O(1)\n",
        "def binarySearchHelper(array,target,left,right): \n",
        "\twhile left<=right:\n",
        "\t\tmiddle=(left+right)//2\n",
        "\t\tpotentialMatch=array[middle]\n",
        "\t\tif target==potentialMatch:\n",
        "\t\t\treturn middle\n",
        "\t\telif target < potentialMatch:\n",
        "\t\t\tright=middle-1\n",
        "\t\telse:\n",
        "\t\t\tleft = middle + 1\n",
        "\treturn -1\n",
        "\t"
      ],
      "execution_count": null,
      "outputs": []
    },
    {
      "cell_type": "code",
      "metadata": {
        "id": "ULBgyvCoZJDH",
        "colab_type": "code",
        "colab": {}
      },
      "source": [
        ""
      ],
      "execution_count": null,
      "outputs": []
    }
  ]
}