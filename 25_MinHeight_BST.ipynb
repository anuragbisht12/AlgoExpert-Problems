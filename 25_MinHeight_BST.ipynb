{
  "nbformat": 4,
  "nbformat_minor": 0,
  "metadata": {
    "colab": {
      "name": "MinHeight_BST.ipynb",
      "provenance": [],
      "collapsed_sections": []
    },
    "kernelspec": {
      "name": "python3",
      "display_name": "Python 3"
    }
  },
  "cells": [
    {
      "cell_type": "code",
      "metadata": {
        "id": "3d8ZnvHUyEYl",
        "colab_type": "code",
        "colab": {}
      },
      "source": [
        "#O(n) time | O(n) space\n",
        "def minHeightBst(array):\n",
        "    return constructMinHeightbst(array,0,len(array)-1)\n",
        "\n",
        "def constructMinHeightbst(array,startIdx, endIdx):\n",
        "\tif endIdx < startIdx:\n",
        "\t\treturn None\n",
        "\tmidIdx =(startIdx+endIdx)//2\n",
        "\tbst=BST(array[midIdx])\n",
        "\tbst.left=constructMinHeightbst(array,startIdx,midIdx-1)\n",
        "\tbst.right = constructMinHeightbst(array,midIdx+1,endIdx)\n",
        "\t\n",
        "\treturn bst\n",
        "\n",
        "\n",
        "class BST:\n",
        "    def __init__(self, value):\n",
        "        self.value = value\n",
        "        self.left = None\n",
        "        self.right = None\n",
        "\n",
        "    def insert(self, value):\n",
        "        if value < self.value:\n",
        "            if self.left is None:\n",
        "                self.left = BST(value)\n",
        "            else:\n",
        "                self.left.insert(value)\n",
        "        else:\n",
        "            if self.right is None:\n",
        "                self.right = BST(value)\n",
        "            else:\n",
        "                self.right.insert(value)\n"
      ],
      "execution_count": 0,
      "outputs": []
    }
  ]
}