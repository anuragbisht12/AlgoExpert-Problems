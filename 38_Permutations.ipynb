{
  "nbformat": 4,
  "nbformat_minor": 0,
  "metadata": {
    "colab": {
      "name": "Permutations.ipynb",
      "provenance": [],
      "collapsed_sections": []
    },
    "kernelspec": {
      "name": "python3",
      "display_name": "Python 3"
    }
  },
  "cells": [
    {
      "cell_type": "code",
      "metadata": {
        "id": "SIA-r19P2QMp",
        "colab_type": "code",
        "colab": {}
      },
      "source": [
        "#O(n*n!) time | O(n*n!) space\n",
        "def getPermutations(array):\n",
        "    permutations=[]\n",
        "\tpermutationsHelper(0,array,permutations)\n",
        "\treturn permutations\n",
        "\n",
        "def permutationsHelper(i,array,permutations):\n",
        "\tif i==len(array)-1:\n",
        "\t\tpermutations.append(array[:])\n",
        "\telse:\n",
        "\t\tfor j in range(i,len(array)):\n",
        "\t\t\tswap(array,i,j)\n",
        "\t\t\tpermutationsHelper(i+1,array,permutations)\n",
        "\t\t\tswap(array,i,j)\n",
        "\n",
        "def swap(array,i,j):\n",
        "\tarray[i],array[j]=array[j],array[i]"
      ],
      "execution_count": 0,
      "outputs": []
    },
    {
      "cell_type": "code",
      "metadata": {
        "id": "ppN0pB2D2eKR",
        "colab_type": "code",
        "colab": {}
      },
      "source": [
        "#less efficient way\n",
        "#Upper Bound: O(n^2*n!) time | O(n*n!) space\n",
        "#Roughly: O(n*n!) time | O(n*n!) space\n",
        "def getPermutations(array):\n",
        "    permutations =[]\n",
        "\tpermutationsHelper(array,[],permutations)\n",
        "    return permutations\n",
        "\n",
        "def permutationsHelper(array,currentPermutation,permutations):\n",
        "\tif not len(array) and len(currentPermutation):\n",
        "\t\tpermutations.append(currentPermutation)\n",
        "\telse:\n",
        "\t\tfor i in range(len(array)):\n",
        "\t\t\tnewArray = array[:i]+ array[i+1:]\n",
        "\t\t\tnewPermutation= currentPermutation + [array[i]]\n",
        "\t\t\tpermutationsHelper(newArray,newPermutation,permutations)\n"
      ],
      "execution_count": 0,
      "outputs": []
    }
  ]
}