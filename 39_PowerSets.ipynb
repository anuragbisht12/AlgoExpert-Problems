{
  "nbformat": 4,
  "nbformat_minor": 0,
  "metadata": {
    "colab": {
      "name": "PowerSets.ipynb",
      "provenance": [],
      "collapsed_sections": []
    },
    "kernelspec": {
      "name": "python3",
      "display_name": "Python 3"
    }
  },
  "cells": [
    {
      "cell_type": "code",
      "metadata": {
        "id": "UkhZFT-sERFn",
        "colab_type": "code",
        "colab": {}
      },
      "source": [
        "#O(n^2^n) time | O(n*2^n) space\n",
        "def powerset(array):\n",
        "    subsets =[[]]\n",
        "\tfor ele in array:\n",
        "\t\tfor i in range(len(subsets)):\n",
        "\t\t\tcurrentSubset=subsets[i]\n",
        "\t\t\tsubsets.append(currentSubset + [ele])\n",
        "\treturn subsets\n"
      ],
      "execution_count": 0,
      "outputs": []
    },
    {
      "cell_type": "code",
      "metadata": {
        "id": "00t9swvxETJK",
        "colab_type": "code",
        "colab": {}
      },
      "source": [
        "#O(n*2^n) time | o(n*2^n) space\n",
        "def powerset(array,idx=None):\n",
        "\tif idx is None:\n",
        "\t\tidx = len(array)-1\n",
        "\tif idx < 0:\n",
        "\t\treturn [[]]\n",
        "\tele=array[idx]\n",
        "\tsubsets =powerset(array,idx-1)\n",
        "\tfor i in range(len(subsets)):\n",
        "\t\tcurrentSubset =subsets[i]\n",
        "\t\tsubsets.append(currentSubset+[ele])\n",
        "\treturn subsets\n"
      ],
      "execution_count": 0,
      "outputs": []
    }
  ]
}