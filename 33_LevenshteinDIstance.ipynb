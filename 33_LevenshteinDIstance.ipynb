{
  "nbformat": 4,
  "nbformat_minor": 0,
  "metadata": {
    "colab": {
      "name": "33_LevenshteinDIstance.ipynb",
      "provenance": [],
      "collapsed_sections": []
    },
    "kernelspec": {
      "name": "python3",
      "display_name": "Python 3"
    }
  },
  "cells": [
    {
      "cell_type": "code",
      "metadata": {
        "id": "U-m5TDsKPxPP",
        "colab_type": "code",
        "colab": {}
      },
      "source": [
        "# O(nm) time | O(nm) space\n",
        "def levenshteinDistance(str1, str2):\n",
        "    edits=[[x for x in range(len(str1)+1)] for y in range(len(str2)+1)]\n",
        "# \tfill the first column like 0, 1, 2, ...\n",
        "\tfor i in range(1,len(str2)+1):\n",
        "\t\tedits[i][0] = edits[i-1][0]+1\n",
        "\t\n",
        "\tfor i in range(1,len(str2)+1):\n",
        "\t\tfor j in range(1,len(str1)+1):\n",
        "# \t\t\t-1 since the elements were shifted due to space\n",
        "\t\t\tif str2[i-1]==str1[j-1]:\n",
        "\t\t\t\tedits[i][j]= edits[i-1][j-1]\n",
        "\t\t\telse:\n",
        "\t\t\t\tedits[i][j]=1+ min(edits[i-1][j-1],edits[i-1][j], edits[i][j-1])\n",
        "\treturn edits[-1][-1]\n",
        "\t\t\n"
      ],
      "execution_count": null,
      "outputs": []
    },
    {
      "cell_type": "code",
      "metadata": {
        "id": "fJwvFL8xPzx_",
        "colab_type": "code",
        "colab": {}
      },
      "source": [
        "# O(nm) time | O(min(n,m)) space\n",
        "def levenshteinDistance(str1, str2):\n",
        "    small= str1 if len(str1)<len(str2) else str2\n",
        "\tbig= str1  if len(str1)>= len(str2) else str2\n",
        "\tevenEdits=[x for x in range(len(small)+1)]\n",
        "\toddEdits=[None for x in range(len(small)+1)]\n",
        "# \trow wise\n",
        "\tfor i in range(1, len(big)+1):\n",
        "\t\tif i%2 ==1:\n",
        "\t\t\tcurrentEdits = oddEdits\n",
        "\t\t\tpreviousEdits = evenEdits\n",
        "\t\telse:\n",
        "\t\t\tcurrentEdits = evenEdits\n",
        "\t\t\tpreviousEdits = oddEdits\n",
        "\t\tcurrentEdits[0]=i\n",
        "# \t\tcolumn wise\n",
        "\t\tfor j in range(1,len(small)+1):\n",
        "\t\t\tif big[i-1] == small[j-1]:\n",
        "# \t\t\t\tassign diagonal value\n",
        "\t\t\t\tcurrentEdits[j] == previousEdits[j-1]\n",
        "\t\t\telse:\n",
        "\t\t\t\tcurrentEdits[j] = 1 + min(previousEdits[j-1], previousEdits[j], currentEdits[j-1])\n",
        "\treturn evenEdits[-1] if len(big)%2 == 0 else oddEdits[-1]\n",
        "\n",
        "\t"
      ],
      "execution_count": null,
      "outputs": []
    }
  ]
}