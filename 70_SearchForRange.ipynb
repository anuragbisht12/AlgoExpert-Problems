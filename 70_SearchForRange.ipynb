{
  "nbformat": 4,
  "nbformat_minor": 0,
  "metadata": {
    "colab": {
      "name": "SearchForRange.ipynb",
      "provenance": [],
      "collapsed_sections": []
    },
    "kernelspec": {
      "name": "python3",
      "display_name": "Python 3"
    }
  },
  "cells": [
    {
      "cell_type": "code",
      "metadata": {
        "id": "odJkQNsSzPOn",
        "colab_type": "code",
        "colab": {}
      },
      "source": [
        "#O(log(n)) time | O(log(n)) space\n",
        "def searchForRange(array, target):\n",
        "    finalRange=[-1,-1]\n",
        "\talteredBinarySearch(array,target,0,len(array)-1,finalRange, True)\n",
        "\talteredBinarySearch(array,target,0,len(array)-1,finalRange, False)\n",
        "\treturn finalRange\n",
        "\n",
        "def alteredBinarySearch(array,target, left, right, finalRange, goLeft):\n",
        "\tif left > right:\n",
        "\t\treturn\n",
        "\tmid =(left+right)//2\n",
        "\tif array[mid]<target:\n",
        "\t\talteredBinarySearch(array,target,mid+1,right,finalRange, goLeft)\n",
        "\telif array[mid]> target:\n",
        "\t\talteredBinarySearch(array,target,left,mid-1,finalRange, goLeft)\n",
        "\telse:\n",
        "\t\tif goLeft:\n",
        "\t\t\tif mid == 0 or array[mid-1] != target:\n",
        "\t\t\t\tfinalRange[0] = mid\n",
        "\t\t\telse:\n",
        "\t\t\t\talteredBinarySearch(array,target,left,mid-1,finalRange, goLeft)\n",
        "\t\telse:\n",
        "\t\t\tif mid == len(array)-1 or array[mid+1] != target:\n",
        "\t\t\t\tfinalRange[1] = mid\n",
        "\t\t\telse:\n",
        "\t\t\t\talteredBinarySearch(array,target,mid+1, right,finalRange, goLeft)\n",
        "\t\t\n",
        "\t\t\n"
      ],
      "execution_count": 0,
      "outputs": []
    },
    {
      "cell_type": "code",
      "metadata": {
        "id": "Ei_m3QqazR_j",
        "colab_type": "code",
        "colab": {}
      },
      "source": [
        "#O(log(n)) time | O(log(n)) space\n",
        "def searchForRange(array, target):\n",
        "    finalRange=[-1,-1]\n",
        "\talteredBinarySearch(array,target,0,len(array)-1,finalRange, True)\n",
        "\talteredBinarySearch(array,target,0,len(array)-1,finalRange, False)\n",
        "\treturn finalRange\n",
        "\n",
        "def alteredBinarySearch(array,target, left, right, finalRange, goLeft):\n",
        "\twhile left <= right:\n",
        "\t\tmid =(left+right)//2\n",
        "\t\tif array[mid] < target:\n",
        "\t\t\tleft = mid + 1\n",
        "\t\telif array[mid] > target:\n",
        "\t\t\tright = mid - 1\n",
        "\t\telse:\n",
        "\t\t\tif goLeft:\n",
        "\t\t\t\tif mid == 0 or array[mid-1] != target:\n",
        "\t\t\t\t\tfinalRange[0] = mid\n",
        "\t\t\t\t\treturn\n",
        "\t\t\t\telse:\n",
        "\t\t\t\t\tright = mid - 1\n",
        "\t\t\telse:\n",
        "\t\t\t\tif mid == len(array)-1 or array[mid+1] != target:\n",
        "\t\t\t\t\tfinalRange[1] = mid\n",
        "\t\t\t\t\treturn\n",
        "\t\t\t\telse:\n",
        "\t\t\t\t\tleft = mid + 1\n",
        "\t\t\t\t\t\n",
        "\n"
      ],
      "execution_count": 0,
      "outputs": []
    }
  ]
}