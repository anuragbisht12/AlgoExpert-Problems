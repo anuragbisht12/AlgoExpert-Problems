{
  "nbformat": 4,
  "nbformat_minor": 0,
  "metadata": {
    "colab": {
      "name": "FindClosestValueinBST.ipynb",
      "provenance": []
    },
    "kernelspec": {
      "name": "python3",
      "display_name": "Python 3"
    }
  },
  "cells": [
    {
      "cell_type": "code",
      "metadata": {
        "id": "_Eyq3R8tOZz7",
        "colab_type": "code",
        "colab": {}
      },
      "source": [
        "def findClosestValueInBst(tree, target):\n",
        "\treturn findClosestHelper(tree,target,float('inf'))\n",
        "\n",
        "def findClosestHelper(tree,target,closest):\n",
        "\tcurrentNode =tree\n",
        "\twhile currentNode is not None:\n",
        "\t\tif abs(target-closest) > abs(target- currentNode.value):\n",
        "\t\t\tclosest = currentNode.value\n",
        "\t\tif target < currentNode.value:\n",
        "\t\t\tcurrentNode=currentNode.left\n",
        "\t\telif target > currentNode.value:\n",
        "\t\t\tcurrentNode = currentNode.right\n",
        "\t\telse:\n",
        "\t\t\tbreak\n",
        "\treturn closest"
      ],
      "execution_count": 0,
      "outputs": []
    }
  ]
}
