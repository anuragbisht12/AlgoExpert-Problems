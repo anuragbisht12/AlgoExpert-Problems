{
  "nbformat": 4,
  "nbformat_minor": 0,
  "metadata": {
    "colab": {
      "name": "FourNumberSum.ipynb",
      "provenance": [],
      "collapsed_sections": []
    },
    "kernelspec": {
      "name": "python3",
      "display_name": "Python 3"
    }
  },
  "cells": [
    {
      "cell_type": "code",
      "metadata": {
        "id": "XEVjJMcpFNA7",
        "colab_type": "code",
        "colab": {}
      },
      "source": [
        "#Average O(n^2) time | O(n^2) space\n",
        "#worst O(n^2) time | O(n^2) space\n",
        "def fourNumberSum(array, targetSum):\n",
        "    allPairSums={}\n",
        "\tquadruplets=[]\n",
        "\tfor i in range(1,len(array)-1):\n",
        "\t\tfor j in range(i+1,len(array)):\n",
        "\t\t\tcurrentSum = array[i]+array[j]\n",
        "\t\t\tdifference=targetSum -currentSum\n",
        "\t\t\tif difference in allPairSums:\n",
        "\t\t\t\tfor pair in allPairSums[difference]:\n",
        "\t\t\t\t\tquadruplets.append(pair+[array[i],array[j]])\n",
        "\t\tfor k in range(0,i):\n",
        "\t\t\tcurrentSum=array[i]+array[k]\n",
        "\t\t\tif currentSum not in allPairSums:\n",
        "\t\t\t\tallPairSums[currentSum]=[[array[k],array[i]]]\n",
        "\t\t\telse:\n",
        "\t\t\t\tallPairSums[currentSum].append([array[k],array[i]])\n",
        "\treturn quadruplets\n"
      ],
      "execution_count": 0,
      "outputs": []
    }
  ]
}