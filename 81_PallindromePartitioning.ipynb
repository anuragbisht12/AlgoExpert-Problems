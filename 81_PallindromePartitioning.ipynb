{
  "nbformat": 4,
  "nbformat_minor": 0,
  "metadata": {
    "colab": {
      "name": "81_PallindromePartitioning.ipynb",
      "provenance": [],
      "collapsed_sections": []
    },
    "kernelspec": {
      "name": "python3",
      "display_name": "Python 3"
    }
  },
  "cells": [
    {
      "cell_type": "code",
      "metadata": {
        "id": "zktI0KQQcLSt",
        "colab_type": "code",
        "colab": {}
      },
      "source": [
        "# O(n^3) time | O(n^2) space\n",
        "def palindromePartitioningMinCuts(string):\n",
        "    palindromes = [[False for i in string] for j in string]\n",
        "\tfor i in range(len(string)):\n",
        "\t\tfor j in range(i,len(string)):\n",
        "\t\t\tpalindromes[i][j]=isPalindrome(string[i:j+1])\n",
        "\t\n",
        "\tcuts=[float(\"inf\") for i in string]\n",
        "\tfor i in range(len(string)):\n",
        "\t\tif palindromes[0][i]:\n",
        "\t\t\tcuts[i]=0\n",
        "\t\telse:\n",
        "# \t\t\tlearn this part\n",
        "\t\t\tcuts[i]=cuts[i-1]+1\n",
        "\t\t\tfor j in range(1,i):\n",
        "\t\t\t\tif palindromes[j][i] and cuts[j-1]+1<cuts[i]:\n",
        "\t\t\t\t\tcuts[i]=cuts[j-1]+1\n",
        "\treturn cuts[-1]\n",
        "\n",
        "\n",
        "def isPalindrome(string):\n",
        "\tleftIdx =0 \n",
        "\trightIdx= len(string)-1\n",
        "\twhile leftIdx < rightIdx:\n",
        "\t\tif string[leftIdx] != string[rightIdx]:\n",
        "\t\t\treturn False\n",
        "\t\tleftIdx +=1\n",
        "\t\trightIdx -=1\n",
        "\treturn True"
      ],
      "execution_count": null,
      "outputs": []
    },
    {
      "cell_type": "code",
      "metadata": {
        "id": "iyk51rJjeSOG",
        "colab_type": "code",
        "colab": {}
      },
      "source": [
        "# O(n^2) time | O(n^2) space\n",
        "def palindromePartitioningMinCuts(string):\n",
        "    palindromes = [[False for i in string] for j in string]\n",
        "\t\t\n",
        "\t# for i in range(len(string)):\n",
        "\t# \tfor j in range(i,len(string)):\n",
        "\t# \t\tpalindromes[i][j]=isPalindrome(string[i:j+1])\n",
        "\tfor i in range(len(string)):\n",
        "\t\tpalindromes[i][i]= True\n",
        "\tfor length in range(2,len(string)+1):\n",
        "\t\tfor i in range(0,len(string)-length+1):\n",
        "\t\t\tj= i+ length -1\n",
        "\t\t\tif length ==2:\n",
        "\t\t\t\tpalindromes[i][j]= string[i]== string[j]\n",
        "\t\t\telse:\n",
        "\t\t\t\tpalindromes[i][j]= string[i] == string[j] and palindromes[i+1][j-1]\n",
        "\t\n",
        "\tcuts=[float(\"inf\") for i in string]\n",
        "\tfor i in range(len(string)):\n",
        "\t\tif palindromes[0][i]:\n",
        "\t\t\tcuts[i]=0\n",
        "\t\telse:\n",
        "# \t\t\tlearn this part\n",
        "\t\t\tcuts[i]=cuts[i-1]+1\n",
        "\t\t\tfor j in range(1,i):\n",
        "\t\t\t\tif palindromes[j][i] and cuts[j-1]+1<cuts[i]:\n",
        "\t\t\t\t\tcuts[i]=cuts[j-1]+1\n",
        "\treturn cuts[-1]"
      ],
      "execution_count": null,
      "outputs": []
    }
  ]
}