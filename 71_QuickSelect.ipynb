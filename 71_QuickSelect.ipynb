{
  "nbformat": 4,
  "nbformat_minor": 0,
  "metadata": {
    "colab": {
      "name": "QuickSelect.ipynb",
      "provenance": [],
      "collapsed_sections": []
    },
    "kernelspec": {
      "name": "python3",
      "display_name": "Python 3"
    }
  },
  "cells": [
    {
      "cell_type": "code",
      "metadata": {
        "id": "lnp6vUMaToXN",
        "colab_type": "code",
        "colab": {}
      },
      "source": [
        "#Best: O(n) time | O(1) space\n",
        "#Average: O(n) time | O(1) space\n",
        "#Worst: O(n^2) time | O(1) space\n",
        "def quickselect(array, k):\n",
        "    position = k - 1\n",
        "\treturn quickselectHelper(array,0,len(array)-1, position)\n",
        "\n",
        "def quickselectHelper(array,startIdx,endIdx, position):\n",
        "\twhile True:\n",
        "\t\tif startIdx > endIdx:\n",
        "\t\t\traise Exception(\"your algorithm should never arrive here!\")\n",
        "\t\tpivotIdx = startIdx\n",
        "\t\tleftIdx = startIdx + 1\n",
        "\t\trightIdx = endIdx\n",
        "\t\twhile leftIdx <= rightIdx:\n",
        "\t\t\tif array[leftIdx] > array[pivotIdx] and array[rightIdx] < array[pivotIdx]:\n",
        "\t\t\t\tswap(leftIdx, rightIdx,array)\n",
        "\t\t\tif array[leftIdx] <= array[pivotIdx]:\n",
        "\t\t\t\tleftIdx += 1\n",
        "\t\t\tif array[rightIdx] >= array[pivotIdx]:\n",
        "\t\t\t\trightIdx -= 1\n",
        "\t\tswap(pivotIdx, rightIdx, array)\n",
        "\t\tif rightIdx == position:\n",
        "\t\t\treturn array[rightIdx]\n",
        "\t\telif rightIdx < position:\n",
        "\t\t\tstartIdx = rightIdx + 1\n",
        "\t\telse:\n",
        "\t\t\tendIdx = rightIdx - 1\n",
        "\n",
        "def swap(one, two, array):\n",
        "\tarray[one], array[two] = array[two], array[one]\n"
      ],
      "execution_count": 0,
      "outputs": []
    }
  ]
}