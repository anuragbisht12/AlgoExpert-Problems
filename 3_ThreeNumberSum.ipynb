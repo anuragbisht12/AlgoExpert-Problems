{
  "nbformat": 4,
  "nbformat_minor": 0,
  "metadata": {
    "colab": {
      "name": "3_ThreeNumberSum.ipynb",
      "provenance": [],
      "collapsed_sections": []
    },
    "kernelspec": {
      "name": "python3",
      "display_name": "Python 3"
    }
  },
  "cells": [
    {
      "cell_type": "code",
      "metadata": {
        "id": "uUJnPTdAuS_n",
        "colab_type": "code",
        "colab": {}
      },
      "source": [
        "def threeNumberSum(array, targetSum):\n",
        "    array.sort()\n",
        "    triplets=[]\n",
        "\tfor i in range(len(array)-2):\n",
        "\t\tleft=i+1\n",
        "\t\tright=len(array)-1\n",
        "\t\twhile left < right:\n",
        "\t\t\tcurrentSum= array[i]+array[left]+array[right]\n",
        "\t\t\tif currentSum == targetSum:\n",
        "\t\t\t\ttriplets.append([array[i],array[left],array[right]])\n",
        "\t\t\t\tleft+=1\n",
        "\t\t\t\tright-=1\n",
        "\t\t\telif currentSum < targetSum:\n",
        "\t\t\t\tleft +=1\n",
        "\t\t\telif currentSum > targetSum:\n",
        "\t\t\t\tright -=1\n",
        "\treturn triplets"
      ],
      "execution_count": 0,
      "outputs": []
    }
  ]
}