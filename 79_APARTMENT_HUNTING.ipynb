{
  "nbformat": 4,
  "nbformat_minor": 0,
  "metadata": {
    "colab": {
      "name": "79_APARTMENT_HUNTING.ipynb",
      "provenance": [],
      "collapsed_sections": []
    },
    "kernelspec": {
      "name": "python3",
      "display_name": "Python 3"
    }
  },
  "cells": [
    {
      "cell_type": "code",
      "metadata": {
        "id": "rO_fpgtZ_Oep",
        "colab_type": "code",
        "colab": {}
      },
      "source": [
        ""
      ],
      "execution_count": null,
      "outputs": []
    },
    {
      "cell_type": "code",
      "metadata": {
        "id": "0YhlYgVF-cF8",
        "colab_type": "code",
        "colab": {}
      },
      "source": [
        "# less optimal\n",
        "# O(b^2*r) time | O(b) space , b is the number of blocks, r is the requirements\n",
        "def apartmentHunting(blocks, reqs):\n",
        "    maxDistancesAtBlocks=[float(\"-inf\") for block in blocks]\n",
        "\tfor i in range(len(blocks)):\n",
        "\t\tfor req in reqs:\n",
        "\t\t\tclosestReqDistance=float(\"inf\")\n",
        "\t\t\tfor j in range(len(blocks)):\n",
        "\t\t\t\tif blocks[j][req]:\n",
        "\t\t\t\t\tclosestReqDistance = min(closestReqDistance,distanceBetween(i,j))\n",
        "\t\t\t\t\t\n",
        "\t\t\tmaxDistancesAtBlocks[i]=max(maxDistancesAtBlocks[i],closestReqDistance)\n",
        "\treturn getIdxAtMinValue(maxDistancesAtBlocks)\n",
        "\n",
        "def getIdxAtMinValue(array):\n",
        "\tidxAtMinValue=0\n",
        "\tminValue=float(\"inf\")\n",
        "\tfor i in range(len(array)):\n",
        "\t\tcurrentValue =array[i]\n",
        "\t\tif currentValue < minValue:\n",
        "\t\t\tminValue = currentValue\n",
        "\t\t\tidxAtMinValue = i\n",
        "\treturn idxAtMinValue\n",
        "\n",
        "def distanceBetween(a,b):\n",
        "\treturn abs(a-b)"
      ],
      "execution_count": null,
      "outputs": []
    },
    {
      "cell_type": "code",
      "metadata": {
        "id": "G4OmZO2G-idZ",
        "colab_type": "code",
        "colab": {}
      },
      "source": [
        "# O(br) time| O(br) space where b is the number of blocks and r is the number of requirements\n",
        "def apartmentHunting(blocks, reqs):\n",
        "    minDistancesFromBlocks= list(map(lambda req: getMinDistances(blocks, req), reqs))\n",
        "\tmaxDistancesAtBlocks = getMaxDistancesAtBlocks(blocks, minDistancesFromBlocks)\n",
        "\treturn getIdxAtMinValue(maxDistancesAtBlocks)\n",
        "\n",
        "\n",
        "def getMinDistances(blocks, req):\n",
        "\tminDistances = [0 for block in blocks]\n",
        "\tclosestReqIdx = float(\"inf\")\n",
        "\tfor i in range(len(blocks)):\n",
        "\t\tif blocks[i][req]:\n",
        "\t\t\tclosestReqIdx = i\n",
        "\t\tminDistances[i] = distanceBetween(i, closestReqIdx)\n",
        "\tfor i in reversed(range(len(blocks))):\n",
        "\t\tif blocks[i][req]:\n",
        "\t\t\tclosestReqIdx = i\n",
        "\t\tminDistances[i] = min(minDistances[i], distanceBetween(i, closestReqIdx))\n",
        "\treturn minDistances\n",
        "\n",
        "def getMaxDistancesAtBlocks(blocks, minDistancesFromBlocks):\n",
        "\tmaxDistancesAtBlocks = [0 for block in blocks]\n",
        "\tfor i in range(len(blocks)):\n",
        "\t\tminDistancesAtBlock=list(map(lambda distances:distances[i],minDistancesFromBlocks))\n",
        "# \t\tidx 0 ->[0, 2, 0]\n",
        "\t\tmaxDistancesAtBlocks[i]= max(minDistancesAtBlock)\n",
        "\treturn maxDistancesAtBlocks\n",
        "\n",
        "# [0,0,1,1,0]\n",
        "# [2,3,1,0,0]\n",
        "# [0,4,1,1,0]\n",
        "\n",
        "def getIdxAtMinValue(array):\n",
        "\tidxAtMinValue =0\n",
        "\tminValue= float(\"inf\")\n",
        "\tfor i in range(len(array)):\n",
        "\t\tcurrentValue = array[i]\n",
        "\t\tif currentValue < minValue:\n",
        "\t\t\tminValue =currentValue\n",
        "\t\t\tidxAtMinValue = i\n",
        "\treturn idxAtMinValue\n",
        "\t\n",
        "def distanceBetween(a,b):\n",
        "\treturn abs(a-b)"
      ],
      "execution_count": null,
      "outputs": []
    }
  ]
}