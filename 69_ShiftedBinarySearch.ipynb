{
  "nbformat": 4,
  "nbformat_minor": 0,
  "metadata": {
    "colab": {
      "name": "ShiftedBinarySearch.ipynb",
      "provenance": [],
      "collapsed_sections": []
    },
    "kernelspec": {
      "name": "python3",
      "display_name": "Python 3"
    }
  },
  "cells": [
    {
      "cell_type": "code",
      "metadata": {
        "id": "xxuAT_bCiH31",
        "colab_type": "code",
        "colab": {}
      },
      "source": [
        "#o(log(n)) time | O(log(n)) space\n",
        "def shiftedBinarySearch(array, target):\n",
        "    return shiftedBinarySearchHelper(array,target,0,len(array)-1)\n",
        "\n",
        "def shiftedBinarySearchHelper(array, target, left, right):\n",
        "\tif left > right:\n",
        "\t\treturn -1\n",
        "\tmiddle = (left+right)//2\n",
        "\tpotentialMatch = array[middle]\n",
        "\tleftNum = array[left]\n",
        "\trightNum = array[right]\n",
        "\tif target == potentialMatch:\n",
        "\t\treturn middle\n",
        "\telif leftNum <= potentialMatch:\n",
        "\t\tif target < potentialMatch and target >= leftNum:\n",
        "\t\t\treturn shiftedBinarySearchHelper(array, target, left, middle-1)\n",
        "\t\telse:\n",
        "\t\t\treturn shiftedBinarySearchHelper(array, target, middle+1, right)\n",
        "\telse:\n",
        "\t\tif target > potentialMatch and target <= rightNum:\n",
        "\t\t\treturn shiftedBinarySearchHelper(array, target, middle+1, right)\n",
        "\t\telse:\n",
        "\t\t\treturn shiftedBinarySearchHelper(array, target, left, middle-1)\n",
        "\t\t\n"
      ],
      "execution_count": 0,
      "outputs": []
    },
    {
      "cell_type": "code",
      "metadata": {
        "id": "KSHDSu7piPex",
        "colab_type": "code",
        "colab": {}
      },
      "source": [
        "#O(log(n)) time | O(1) space\n",
        "def shiftedBinarySearch(array, target):\n",
        "    return shiftedBinarySearchHelper(array,target,0,len(array)-1)\n",
        "\n",
        "def shiftedBinarySearchHelper(array, target, left, right):\n",
        "\twhile left <= right:\n",
        "\t\tmiddle = (left+right)//2\n",
        "\t\tpotentialMatch = array[middle]\n",
        "\t\tleftNum = array[left]\n",
        "\t\trightNum = array[right]\n",
        "\t\tif target == potentialMatch:\n",
        "\t\t\treturn middle\n",
        "\t\telif leftNum <= potentialMatch:\n",
        "\t\t\tif target < potentialMatch and target >=leftNum:\n",
        "\t\t\t\tright = middle -1\n",
        "\t\t\telse:\n",
        "\t\t\t\tleft = middle + 1\n",
        "\t\telse:\n",
        "\t\t\tif target > potentialMatch and target <= rightNum:\n",
        "\t\t\t\tleft = middle + 1\n",
        "\t\t\telse:\n",
        "\t\t\t\tright = middle -1\n",
        "\treturn -1\n"
      ],
      "execution_count": 0,
      "outputs": []
    }
  ]
}