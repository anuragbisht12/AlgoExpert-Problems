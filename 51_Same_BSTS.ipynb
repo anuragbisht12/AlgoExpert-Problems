{
  "nbformat": 4,
  "nbformat_minor": 0,
  "metadata": {
    "colab": {
      "name": "Same_BSTS.ipynb",
      "provenance": [],
      "collapsed_sections": []
    },
    "kernelspec": {
      "name": "python3",
      "display_name": "Python 3"
    }
  },
  "cells": [
    {
      "cell_type": "code",
      "metadata": {
        "id": "k6gThEs4CxCD",
        "colab_type": "code",
        "colab": {}
      },
      "source": [
        "#O(n^2) time | O(n^2) space\n",
        "def sameBsts(arrayOne, arrayTwo):\n",
        "\tif len(arrayOne) != len(arrayTwo):\n",
        "\t\treturn False\n",
        "\tif len(arrayOne) ==0 and len(arrayTwo) ==0:\n",
        "\t\treturn True\n",
        "\tif arrayOne[0] != arrayTwo[0]:\n",
        "\t\treturn False\n",
        "\t\n",
        "\tleftOne = getSmaller(arrayOne)\n",
        "\tleftTwo =getSmaller(arrayTwo)\n",
        "\trightOne = getBiggerOrEqual(arrayOne)\n",
        "\trightTwo = getBiggerOrEqual(arrayTwo)\n",
        "\t\n",
        "\treturn sameBsts(leftOne,leftTwo) and sameBsts(rightOne,rightTwo)\n",
        "\n",
        "def getSmaller(array):\n",
        "\tsmaller=[]\n",
        "\tfor i in range(1,len(array)):\n",
        "\t\tif array[i] < array[0]:\n",
        "\t\t\tsmaller.append(array[i])\n",
        "\treturn smaller\n",
        "\n",
        "def getBiggerOrEqual(array):\n",
        "\tbiggerOrEqual=[]\n",
        "\tfor i in range(1, len(array)):\n",
        "\t\tif array[i] >= array[0]:\n",
        "\t\t\tbiggerOrEqual.append(array[i])\n",
        "\treturn biggerOrEqual\n"
      ],
      "execution_count": 0,
      "outputs": []
    }
  ]
}