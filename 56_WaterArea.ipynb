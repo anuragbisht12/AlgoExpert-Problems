{
  "nbformat": 4,
  "nbformat_minor": 0,
  "metadata": {
    "colab": {
      "name": "WaterArea.ipynb",
      "provenance": [],
      "collapsed_sections": []
    },
    "kernelspec": {
      "name": "python3",
      "display_name": "Python 3"
    }
  },
  "cells": [
    {
      "cell_type": "code",
      "metadata": {
        "id": "bsLSQXoc4Ke1",
        "colab_type": "code",
        "colab": {}
      },
      "source": [
        "#O(n) time | O(n) space\n",
        "def waterArea(heights):\n",
        "    maxes=[0 for x in heights]\n",
        "\tleftMax=0\n",
        "\tfor i in range(len(heights)):\n",
        "\t\theight=heights[i]\n",
        "\t\tmaxes[i]=leftMax\n",
        "\t\tleftMax=max(leftMax,height)\n",
        "\trightMax=0\n",
        "\tfor i in reversed(range(len(heights))):\n",
        "\t\theight =heights[i]\n",
        "\t\tminHeight=min(rightMax,maxes[i])\n",
        "\t\tif height<minHeight:\n",
        "\t\t\tmaxes[i]=minHeight-height\n",
        "\t\telse:\n",
        "\t\t\tmaxes[i]=0\n",
        "\t\trightMax=max(rightMax,height)\n",
        "\treturn sum(maxes)\n"
      ],
      "execution_count": 0,
      "outputs": []
    }
  ]
}