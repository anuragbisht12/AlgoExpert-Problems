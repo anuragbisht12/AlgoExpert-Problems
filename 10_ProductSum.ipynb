{
  "nbformat": 4,
  "nbformat_minor": 0,
  "metadata": {
    "colab": {
      "name": "ProductSum.ipynb",
      "provenance": [],
      "collapsed_sections": []
    },
    "kernelspec": {
      "name": "python3",
      "display_name": "Python 3"
    }
  },
  "cells": [
    {
      "cell_type": "code",
      "metadata": {
        "id": "XaUS6RV1q_-i",
        "colab_type": "code",
        "colab": {}
      },
      "source": [
        "# Tip: You can use the type(element) function to check whether an item\n",
        "# is a list or an integer.\n",
        "# time O(n) | space O(n)\n",
        "def productSum(array,sums=0,level=1):\n",
        "\tnewsums=sums\n",
        "    for element in array:\n",
        "\t\tif type(element) is list:\n",
        "\t\t\tsums+=productSum(element,newsums,level+1)*level\n",
        "\t\telse:\n",
        "\t\t\tsums+=element*level\n",
        "\t\t\t\n",
        "\treturn sums\n"
      ],
      "execution_count": 0,
      "outputs": []
    }
  ]
}