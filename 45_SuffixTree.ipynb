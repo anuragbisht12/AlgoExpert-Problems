{
  "nbformat": 4,
  "nbformat_minor": 0,
  "metadata": {
    "colab": {
      "name": "SuffixTree.ipynb",
      "provenance": [],
      "collapsed_sections": []
    },
    "kernelspec": {
      "name": "python3",
      "display_name": "Python 3"
    }
  },
  "cells": [
    {
      "cell_type": "code",
      "metadata": {
        "id": "ct-0ov4RoMjS",
        "colab_type": "code",
        "colab": {}
      },
      "source": [
        "# Do not edit the class below except for the\n",
        "# populateSuffixTrieFrom and contains methods.\n",
        "# Feel free to add new properties and methods\n",
        "# to the class.\n",
        "class SuffixTrie:\n",
        "    def __init__(self, string):\n",
        "        self.root = {}\n",
        "        self.endSymbol = \"*\"\n",
        "        self.populateSuffixTrieFrom(string)\n",
        "\n",
        "\t#O(n^2) time | O(n^2) space\n",
        "    def populateSuffixTrieFrom(self, string):\n",
        "        for i in range(len(string)):\n",
        "\t\t\tself.insertSubstringStartingAt(i,string)\n",
        "\t\t\t\n",
        "\tdef insertSubstringStartingAt(self,i, string):\n",
        "\t\tnode=self.root\n",
        "\t\tfor j in range(i,len(string)):\n",
        "\t\t\tletter = string[j]\n",
        "\t\t\tif letter not in node:\n",
        "\t\t\t\tnode[letter]={}\n",
        "\t\t\tnode=node[letter]\n",
        "\t\tnode[self.endSymbol]=True\n",
        "\n",
        "\t#O(m) time | O(1) space\n",
        "    def contains(self, string):\n",
        "        node=self.root\n",
        "\t\tfor letter in string:\n",
        "\t\t\tif letter not in node:\n",
        "\t\t\t\treturn False\n",
        "\t\t\tnode=node[letter]\n",
        "\t\treturn self.endSymbol in node\n"
      ],
      "execution_count": 0,
      "outputs": []
    }
  ]
}