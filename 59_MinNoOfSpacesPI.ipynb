{
  "nbformat": 4,
  "nbformat_minor": 0,
  "metadata": {
    "colab": {
      "name": "59_MinNoOfSpacesPI.ipynb",
      "provenance": [],
      "collapsed_sections": []
    },
    "kernelspec": {
      "name": "python3",
      "display_name": "Python 3"
    }
  },
  "cells": [
    {
      "cell_type": "code",
      "metadata": {
        "id": "wi2qt2wzvDft",
        "colab_type": "code",
        "colab": {}
      },
      "source": [
        "# O(n^3 + m ) time | O(n+m) space\n",
        "def numbersInPi(pi, numbers):\n",
        "    numbersTable={number: True for number in numbers}\n",
        "\tminSpaces=getMinSpaces(pi,numbersTable,{},0)\n",
        "\treturn -1 if minSpaces == float(\"inf\") else minSpaces\n",
        "\t\n",
        "def getMinSpaces(pi,numbersTable,cache,idx):\n",
        "\tif  idx == len(pi):\n",
        "\t\treturn -1\n",
        "\tif idx in cache:\n",
        "\t\treturn cache[idx]\n",
        "\tminSpaces=float(\"inf\")\n",
        "\tfor i in range(idx, len(pi)):\n",
        "\t\tprefix =pi[idx:i+1]\n",
        "\t\tif prefix in numbersTable:\n",
        "\t\t\tminSpacesInSuffix = getMinSpaces(pi,numbersTable,cache, i+1)\n",
        "\t\t\tminSpaces=min(minSpaces, minSpacesInSuffix+1)\n",
        "\tcache[idx]=minSpaces\n",
        "\treturn cache[idx]"
      ],
      "execution_count": null,
      "outputs": []
    },
    {
      "cell_type": "code",
      "metadata": {
        "id": "YOJeCbdTvG_X",
        "colab_type": "code",
        "colab": {}
      },
      "source": [
        "# O(n^3+m) time | o(n+m) space\n",
        "def numbersInPi(pi, numbers):\n",
        "    numbersTable = {number: True for number in numbers}\n",
        "    cache={}\n",
        "\tfor i in reversed(range(len(pi))):\n",
        "\t\tgetMinSpaces(pi,numbersTable,cache,i)\n",
        "\treturn -1 if cache[0] == float(\"inf\") else cache[0]\n",
        "\n",
        "def getMinSpaces(pi,numbersTable,cache,idx):\n",
        "\tif  idx == len(pi):\n",
        "\t\treturn -1\n",
        "\tif idx in cache:\n",
        "\t\treturn cache[idx]\n",
        "\tminSpaces=float(\"inf\")\n",
        "\tfor i in range(idx, len(pi)):\n",
        "\t\tprefix =pi[idx:i+1]\n",
        "\t\tif prefix in numbersTable:\n",
        "\t\t\tminSpacesInSuffix = getMinSpaces(pi,numbersTable,cache, i+1)\n",
        "\t\t\tminSpaces=min(minSpaces, minSpacesInSuffix+1)\n",
        "\tcache[idx]=minSpaces\n",
        "\treturn cache[idx]"
      ],
      "execution_count": null,
      "outputs": []
    }
  ]
}