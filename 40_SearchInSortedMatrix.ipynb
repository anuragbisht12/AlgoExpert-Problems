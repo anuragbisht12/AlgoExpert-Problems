{
  "nbformat": 4,
  "nbformat_minor": 0,
  "metadata": {
    "colab": {
      "name": "SearchInSortedMatrix.ipynb",
      "provenance": [],
      "collapsed_sections": []
    },
    "kernelspec": {
      "name": "python3",
      "display_name": "Python 3"
    }
  },
  "cells": [
    {
      "cell_type": "code",
      "metadata": {
        "id": "3U8hvJNjLnn6",
        "colab_type": "code",
        "colab": {}
      },
      "source": [
        "#O(n+m) time | O(1)\n",
        "def searchInSortedMatrix(matrix, target):\n",
        "    row=0\n",
        "\tcol=len(matrix[0])-1\n",
        "\twhile row < len(matrix) and col>=0:\n",
        "\t\tif matrix[row][col] > target:\n",
        "\t\t\tcol -=1\n",
        "\t\telif matrix[row][col] < target:\n",
        "\t\t\trow+=1\n",
        "\t\telse:\n",
        "\t\t\treturn [row,col]\n",
        "\treturn [-1,-1]\n",
        "\t\n"
      ],
      "execution_count": 0,
      "outputs": []
    }
  ]
}