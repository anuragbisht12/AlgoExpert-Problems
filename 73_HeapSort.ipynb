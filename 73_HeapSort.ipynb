{
  "nbformat": 4,
  "nbformat_minor": 0,
  "metadata": {
    "colab": {
      "name": "HeapSort.ipynb",
      "provenance": [],
      "collapsed_sections": []
    },
    "kernelspec": {
      "name": "python3",
      "display_name": "Python 3"
    }
  },
  "cells": [
    {
      "cell_type": "code",
      "metadata": {
        "id": "hmXKGEF4OxZi",
        "colab_type": "code",
        "colab": {}
      },
      "source": [
        "#O(nlogn) time | O(1) space\n",
        "def heapSort(array):\n",
        "    buildMaxHeap(array)\n",
        "\tfor endIdx in reversed(range(1,len(array))):\n",
        "\t\tswap(0,endIdx,array)\n",
        "\t\tsiftDown(0,endIdx-1,array)\n",
        "\treturn array\n",
        "\n",
        "def buildMaxHeap(array):\n",
        "\tfirstParentIdx = (len(array) - 2)//2\n",
        "\tfor currentIdx in reversed(range(firstParentIdx + 1)):\n",
        "\t\tsiftDown(currentIdx, len(array) - 1, array)\n",
        "\n",
        "def siftDown(currentIdx,endIdx,heap):\n",
        "\tchildOneIdx = currentIdx * 2 + 1\n",
        "\twhile childOneIdx <= endIdx:\n",
        "\t\tchildTwoIdx = currentIdx*2+2 if currentIdx*2+2 <=endIdx else -1\n",
        "\t\tif childTwoIdx > -1 and heap[childTwoIdx] > heap[childOneIdx]:\n",
        "\t\t\tidxToSwap = childTwoIdx\n",
        "\t\telse:\n",
        "\t\t\tidxToSwap = childOneIdx\n",
        "\t\tif heap[idxToSwap] > heap[currentIdx]:\n",
        "\t\t\tswap(currentIdx, idxToSwap, heap)\n",
        "\t\t\tcurrentIdx = idxToSwap\n",
        "\t\t\tchildOneIdx = currentIdx *2+1\n",
        "\t\telse:\n",
        "\t\t\treturn\n",
        "\t\n",
        "def swap(i, j, array):\n",
        "\tarray[i], array[j] = array[j], array[i]\n"
      ],
      "execution_count": 0,
      "outputs": []
    }
  ]
}