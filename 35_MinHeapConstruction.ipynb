{
  "nbformat": 4,
  "nbformat_minor": 0,
  "metadata": {
    "colab": {
      "name": "MinHeapConstruction.ipynb",
      "provenance": [],
      "collapsed_sections": []
    },
    "kernelspec": {
      "name": "python3",
      "display_name": "Python 3"
    }
  },
  "cells": [
    {
      "cell_type": "code",
      "metadata": {
        "id": "MdSt2fBEaJdE",
        "colab_type": "code",
        "colab": {}
      },
      "source": [
        "# Do not edit the class below except for the buildHeap,\n",
        "# siftDown, siftUp, peek, remove, and insert methods.\n",
        "# Feel free to add new properties and methods to the class.\n",
        "class MinHeap:\n",
        "    def __init__(self, array):\n",
        "        # Do not edit the line below.\n",
        "        self.heap = self.buildHeap(array)\n",
        "\n",
        "# O(n) time | O(1) space\n",
        "    def buildHeap(self, array):\n",
        "        firstParentIdx = (len(array) - 2)//2\n",
        "\t\tfor currentIdx in reversed(range(firstParentIdx+1)):\n",
        "\t\t\tself.siftDown(currentIdx, len(array)-1, array)\n",
        "\t\treturn array\n",
        "\n",
        "# O(logn) time | O(1) space\n",
        "    def siftDown(self,currentIdx, endIdx, heap):\n",
        "        childOneIdx = currentIdx*2 + 1\n",
        "\t\twhile childOneIdx <= endIdx:\n",
        "\t\t\tchildTwoIdx = currentIdx*2+2 if currentIdx*2+2 <= endIdx else -1\n",
        "\t\t\tif childTwoIdx != -1 and heap[childTwoIdx] < heap[childOneIdx]:\n",
        "\t\t\t\tidxToSwap = childTwoIdx\n",
        "\t\t\telse:\n",
        "\t\t\t\tidxToSwap = childOneIdx\n",
        "\t\t\tif heap[idxToSwap] < heap[currentIdx]:\n",
        "\t\t\t\tself.swap(currentIdx, idxToSwap, heap)\n",
        "\t\t\t\tcurrentIdx = idxToSwap\n",
        "\t\t\t\tchildOneIdx = currentIdx*2+1\n",
        "\t\t\telse:\n",
        "\t\t\t\treturn\n",
        "\n",
        "#O(logn) time | O(1) space\n",
        "    def siftUp(self, currentIdx, heap):\n",
        "        parentIdx = (currentIdx - 1)//2\n",
        "\t\twhile currentIdx > 0 and heap[currentIdx] < heap[parentIdx]:\n",
        "\t\t\tself.swap(currentIdx, parentIdx, heap)\n",
        "\t\t\tcurrentIdx = parentIdx\n",
        "\t\t\tparentIdx = (currentIdx - 1)//2\n",
        "\t\t\n",
        "\t# O(1) time | O(1) space\n",
        "    def peek(self):\n",
        "        return self.heap[0]\n",
        "\t\n",
        "# O(logn) time | O(1) space\n",
        "    def remove(self):\n",
        "        self.swap(0,len(self.heap)-1,self.heap)\n",
        "\t\tvalueToRemove = self.heap.pop()\n",
        "\t\tself.siftDown(0,len(self.heap)-1,self.heap)\n",
        "\t\treturn valueToRemove\n",
        "\t\t\n",
        "# O(logn) time | O(1) space\n",
        "    def insert(self, value):\n",
        "        self.heap.append(value)\n",
        "\t\tself.siftUp(len(self.heap)-1, self.heap)\n",
        "\t\t\n",
        "\tdef swap(self,i,j,heap):\n",
        "\t\theap[i],heap[j]=heap[j],heap[i]"
      ],
      "execution_count": 0,
      "outputs": []
    }
  ]
}