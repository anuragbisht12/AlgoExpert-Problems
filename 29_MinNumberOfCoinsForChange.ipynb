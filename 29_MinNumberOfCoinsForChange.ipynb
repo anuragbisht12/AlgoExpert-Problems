{
  "nbformat": 4,
  "nbformat_minor": 0,
  "metadata": {
    "colab": {
      "name": "MinNumberOfCoinsForChange.ipynb",
      "provenance": [],
      "collapsed_sections": []
    },
    "kernelspec": {
      "name": "python3",
      "display_name": "Python 3"
    }
  },
  "cells": [
    {
      "cell_type": "code",
      "metadata": {
        "id": "2GvPDFDcnWZH",
        "colab_type": "code",
        "colab": {}
      },
      "source": [
        "#O(nd) time | O(n) space\n",
        "def minNumberOfCoinsForChange(n, denoms):\n",
        "\tnumOfCoins = [float('inf') for amount in range(n+1)]\n",
        "\tnumOfCoins[0]=0\n",
        "\tfor denom in denoms:\n",
        "\t\tfor amount in range(len(numOfCoins)):\n",
        "\t\t\tif denom <=amount:\n",
        "\t\t\t\tnumOfCoins[amount] = min(numOfCoins[amount], numOfCoins[amount- denom]+1)\n",
        "\treturn numOfCoins[n] if numOfCoins[n] != float(\"inf\") else -1\n"
      ],
      "execution_count": 0,
      "outputs": []
    }
  ]
}