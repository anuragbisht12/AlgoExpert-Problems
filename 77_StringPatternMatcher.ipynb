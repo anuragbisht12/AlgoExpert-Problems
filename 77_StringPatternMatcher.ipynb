{
  "nbformat": 4,
  "nbformat_minor": 0,
  "metadata": {
    "colab": {
      "name": "77_StringPatternMatcher.ipynb",
      "provenance": [],
      "collapsed_sections": []
    },
    "kernelspec": {
      "name": "python3",
      "display_name": "Python 3"
    }
  },
  "cells": [
    {
      "cell_type": "code",
      "metadata": {
        "id": "7keRVKIHIBRw",
        "colab_type": "code",
        "colab": {}
      },
      "source": [
        "# O(n^2+m) time | O(n+m) space\n",
        "def patternMatcher(pattern, string):\n",
        "    if len(pattern)> len(string):\n",
        "\t\treturn []\n",
        "\tnewPattern = getNewPattern(pattern)\n",
        "\tdidSwitch =newPattern[0] !=pattern[0]\n",
        "\tcounts ={'x':0, 'y':0}\n",
        "\tfirstYPos = getCountsAndFirstYPos(newPattern, counts)\n",
        "\tif counts['y'] !=0:\n",
        "\t\tfor lenOfX in  range(1,len(string)):\n",
        "\t\t\tlenOfY = (len(string)- lenOfX* counts['x'])/counts['y']\n",
        "\t\t\tif lenOfY <=0 or lenOfY % 1 !=0:\n",
        "\t\t\t\tcontinue\n",
        "\t\t\tlenOfY = int(lenOfY)\n",
        "\t\t\tyIdx = firstYPos * lenOfX\n",
        "\t\t\tx = string[:lenOfX]\n",
        "\t\t\ty = string[yIdx : yIdx+ lenOfY]\n",
        "\t\t\tpotentialMatch = map(lambda char:x if char =='x' else y,newPattern)\n",
        "\t\t\tif string == \"\".join(potentialMatch):\n",
        "\t\t\t\treturn [x,y] if not didSwitch else [y,x]\n",
        "\telse:\n",
        "\t\tlenOfX= len(string)/ counts['x']\n",
        "\t\tif lenOfX % 1 ==0:\n",
        "\t\t\tlenOfX=int(lenOfX)\n",
        "\t\t\tx=string[:lenOfX]\n",
        "\t\t\tpotentialMatch = map(lambda char: x, newPattern)\n",
        "\t\t\tif string ==\"\".join(potentialMatch):\n",
        "\t\t\t\treturn [x,\"\"] if not didSwitch else [\"\",x]\n",
        "\treturn []\n",
        "\t\t\n",
        "    pass\n",
        "\n",
        "def getNewPattern(pattern):\n",
        "\tpatternLetters=list(pattern)\n",
        "\tif pattern[0]==\"x\":\n",
        "\t\treturn patternLetters\n",
        "\telse:\n",
        "\t\treturn list(map(lambda char: 'x' if char=='y' else 'y',patternLetters))\n",
        "\t\n",
        "def getCountsAndFirstYPos(pattern, counts):\n",
        "\tfirstYPos = None\n",
        "\tfor i, char in enumerate(pattern):\n",
        "\t\tcounts[char] +=1\n",
        "\t\tif char == 'y' and firstYPos is None:\n",
        "\t\t\tfirstYPos = i\n",
        "\treturn firstYPos\n"
      ],
      "execution_count": null,
      "outputs": []
    }
  ]
}