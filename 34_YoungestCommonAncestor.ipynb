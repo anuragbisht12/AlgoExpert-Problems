{
  "nbformat": 4,
  "nbformat_minor": 0,
  "metadata": {
    "colab": {
      "name": "YoungestCommonAncestor.ipynb",
      "provenance": [],
      "collapsed_sections": []
    },
    "kernelspec": {
      "name": "python3",
      "display_name": "Python 3"
    }
  },
  "cells": [
    {
      "cell_type": "code",
      "metadata": {
        "id": "Dmku7YOyEIca",
        "colab_type": "code",
        "colab": {}
      },
      "source": [
        "# This is an input class. Do not edit.\n",
        "class AncestralTree:\n",
        "    def __init__(self, name):\n",
        "        self.name = name\n",
        "        self.ancestor = None\n",
        "\n",
        "\n",
        "def getYoungestCommonAncestor(topAncestor, descendantOne, descendantTwo):\n",
        "    depthOne = getDescendantDepth(descendantOne,topAncestor)\n",
        "\tdepthTwo = getDescendantDepth(descendantTwo,topAncestor)\n",
        "    if depthOne > depthTwo:\n",
        "\t\treturn backtrackAncestralTree(descendantOne,descendantTwo,depthOne-depthTwo)\n",
        "\telse:\n",
        "\t\treturn backtrackAncestralTree(descendantTwo,descendantOne,depthTwo-depthOne)\n",
        "\t\n",
        "def getDescendantDepth(descendant,topAncestor):\n",
        "\tdepth=0\n",
        "\twhile descendant != topAncestor:\n",
        "\t\tdepth +=1\n",
        "\t\tdescendant = descendant.ancestor\n",
        "\treturn depth\n",
        "\n",
        "def backtrackAncestralTree(lowerDescendant,higherDescendant, diff):\n",
        "\twhile diff>0:\n",
        "\t\tlowerDescendant = lowerDescendant.ancestor\n",
        "\t\tdiff-=1\n",
        "\twhile lowerDescendant !=  higherDescendant:\n",
        "\t\tlowerDescendant=lowerDescendant.ancestor\n",
        "\t\thigherDescendant=higherDescendant.ancestor\n",
        "\treturn lowerDescendant"
      ],
      "execution_count": 0,
      "outputs": []
    }
  ]
}