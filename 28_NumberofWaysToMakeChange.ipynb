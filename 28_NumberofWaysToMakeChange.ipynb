{
  "nbformat": 4,
  "nbformat_minor": 0,
  "metadata": {
    "colab": {
      "name": "NumberofWaysToMakeChange.ipynb",
      "provenance": [],
      "collapsed_sections": []
    },
    "kernelspec": {
      "name": "python3",
      "display_name": "Python 3"
    }
  },
  "cells": [
    {
      "cell_type": "code",
      "metadata": {
        "id": "c3GX9h3ggNcN",
        "colab_type": "code",
        "colab": {}
      },
      "source": [
        "# O(n of denoms) time | O(n) for space\n",
        "def numberOfWaysToMakeChange(n, denoms):\n",
        "\tways=[0 for amount in range(n+1)]\n",
        "\tways[0]=1\n",
        "\tfor denom in denoms:\n",
        "\t\tfor amount in range(1,n+1):\n",
        "\t\t\tif denom<=amount:\n",
        "\t\t\t\tways[amount]+=ways[amount-denom]\n",
        "\treturn ways[n]"
      ],
      "execution_count": 0,
      "outputs": []
    }
  ]
}