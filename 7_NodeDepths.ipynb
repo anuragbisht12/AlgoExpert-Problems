{
  "nbformat": 4,
  "nbformat_minor": 0,
  "metadata": {
    "colab": {
      "name": "NodeDepths.ipynb",
      "provenance": []
    },
    "kernelspec": {
      "name": "python3",
      "display_name": "Python 3"
    }
  },
  "cells": [
    {
      "cell_type": "code",
      "metadata": {
        "id": "ENRdd0ZVhQqc",
        "colab_type": "code",
        "colab": {}
      },
      "source": [
        "# Time:O(n) | Space: O(height)\n",
        "def nodeDepths(root,depth=0):\n",
        "\tif root is None:\n",
        "\t\treturn 0\n",
        "    return depth + nodeDepths(root.left,depth+1) + nodeDepths(root.right,depth+1)\n",
        "\n",
        "\n",
        "# This is the class of the input binary tree.\n",
        "class BinaryTree:\n",
        "    def __init__(self, value):\n",
        "        self.value = value\n",
        "        self.left = None\n",
        "        self.right = None\n"
      ],
      "execution_count": 0,
      "outputs": []
    }
  ]
}