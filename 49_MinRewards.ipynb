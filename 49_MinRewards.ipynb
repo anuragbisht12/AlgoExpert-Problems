{
  "nbformat": 4,
  "nbformat_minor": 0,
  "metadata": {
    "colab": {
      "name": "MinRewards.ipynb",
      "provenance": [],
      "collapsed_sections": []
    },
    "kernelspec": {
      "name": "python3",
      "display_name": "Python 3"
    }
  },
  "cells": [
    {
      "cell_type": "code",
      "metadata": {
        "id": "qkl8LPg7nS04",
        "colab_type": "code",
        "colab": {}
      },
      "source": [
        "#O(n) time | O(n) space\n",
        "def minRewards(scores):\n",
        "    rewards=[1 for i in scores]\n",
        "\tfor i in range(1,len(scores)):\n",
        "\t\tif scores[i]>scores[i-1]:\n",
        "\t\t\trewards[i]=rewards[i-1]+1\n",
        "\tfor i in reversed((range(len(scores)-1))):\n",
        "\t\tif scores[i]>scores[i+1]\n",
        "\t\trewards[i]=max(rewards[i],rewards[i+1]+1)\n",
        "\treturn sum(rewards)\n"
      ],
      "execution_count": 0,
      "outputs": []
    },
    {
      "cell_type": "code",
      "metadata": {
        "id": "UzDfljIhoWt8",
        "colab_type": "code",
        "colab": {}
      },
      "source": [
        "#O(n^2) time | O(n) space\n",
        "def minRewards(scores):\n",
        "   \trewards = [1 for _ in scores]\n",
        "\tfor i in range(1,len(scores)):\n",
        "\t\tj=i-1\n",
        "\t\tif scores[i]>scores[j]:\n",
        "\t\t\trewards[i]=rewards[j]+1\n",
        "\t\telse:\n",
        "\t\t\twhile j>=0 and scores[j] > scores[j+1]:\n",
        "\t\t\t\trewards[j] =max(rewards[j],rewards[j+1]+1)\n",
        "\t\t\t\tj -=1\n",
        "\treturn sum(rewards)"
      ],
      "execution_count": 0,
      "outputs": []
    }
  ]
}