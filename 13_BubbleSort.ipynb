{
  "nbformat": 4,
  "nbformat_minor": 0,
  "metadata": {
    "colab": {
      "name": "BubbleSort.ipynb",
      "provenance": [],
      "collapsed_sections": []
    },
    "kernelspec": {
      "name": "python3",
      "display_name": "Python 3"
    }
  },
  "cells": [
    {
      "cell_type": "code",
      "metadata": {
        "id": "e_HFjsT1aeBa",
        "colab_type": "code",
        "colab": {}
      },
      "source": [
        "#Best O(n) time | O(1) space\n",
        "#Average O(n^2) time | O(1) space\n",
        "#Worst O(n^2) time | O(1) space\n",
        "def bubbleSort(array):\n",
        "    isSorted= False\n",
        "\tcounter=0\n",
        "\twhile not isSorted:\n",
        "\t\tisSorted=True\n",
        "\t\tfor i in range(len(array)-1-counter):\n",
        "\t\t\tif array[i]>array[i+1]:\n",
        "\t\t\t\tswap(i,i+1, array)\n",
        "\t\t\t\tisSorted=False\n",
        "\treturn array\n",
        "\n",
        "def swap(i,j,array):\n",
        "\tarray[i],array[j]=array[j],array[i]"
      ],
      "execution_count": 0,
      "outputs": []
    }
  ]
}