{
  "nbformat": 4,
  "nbformat_minor": 0,
  "metadata": {
    "colab": {
      "name": "MonotonicArray.ipynb",
      "provenance": [],
      "collapsed_sections": []
    },
    "kernelspec": {
      "name": "python3",
      "display_name": "Python 3"
    }
  },
  "cells": [
    {
      "cell_type": "code",
      "metadata": {
        "id": "wfaNz4PaxORo",
        "colab_type": "code",
        "colab": {}
      },
      "source": [
        "def isMonotonic(array):\n",
        "\tisNonDecreasing = True\n",
        "\tisNonIncreasing = True\n",
        "\tfor i in range(1,len(array)):\n",
        "\t\tif array[i]<array[i-1]:\n",
        "\t\t\tisNonDecreasing = False\n",
        "\t\tif array[i] > array[i-1]:\n",
        "\t\t\tisNonIncreasing =False\n",
        "\treturn isNonDecreasing or isNonIncreasing"
      ],
      "execution_count": 0,
      "outputs": []
    }
  ]
}