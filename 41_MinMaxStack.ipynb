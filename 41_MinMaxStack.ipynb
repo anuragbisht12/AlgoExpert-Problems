{
  "nbformat": 4,
  "nbformat_minor": 0,
  "metadata": {
    "colab": {
      "name": "MinMaxStack.ipynb",
      "provenance": [],
      "collapsed_sections": []
    },
    "kernelspec": {
      "name": "python3",
      "display_name": "Python 3"
    }
  },
  "cells": [
    {
      "cell_type": "code",
      "metadata": {
        "id": "P6rwGReqUwJI",
        "colab_type": "code",
        "colab": {}
      },
      "source": [
        "# Feel free to add new properties and methods to the class.\n",
        "class MinMaxStack:\n",
        "  def __init__(self):\n",
        "    self.minMaxStack=[]\n",
        "    self.stack=[]\n",
        "\n",
        "  #O(1) time | O(1) space\n",
        "  def peek(self):\n",
        "    return self.stack[len(self.stack)-1]\n",
        "\n",
        "  #O(1) time | O(1) space\n",
        "  def pop(self):\n",
        "    self.minMaxStack.pop()\n",
        "    return self.stack.pop()\n",
        "\t\t#O(1) time | O(1) space\n",
        "  def push(self, number):\n",
        "    newMinMax ={\"min\":number, \"max\":number}\n",
        "    if len(self.minMaxStack):\n",
        "      lastMinMax=self.minMaxStack[len(self.minMaxStack)-1]\n",
        "      newMinMax[\"min\"]=min(lastMinMax[\"min\"],number)\n",
        "      newMinMax[\"max\"]=max(lastMinMax[\"max\"],number)\n",
        "      self.minMaxStack.append(newMinMax)\n",
        "      self.stack.append(number)\n",
        "\t#O(1) time | O(1) space\n",
        "  def getMin(self):\n",
        "    return self.minMaxStack[len(self.minMaxStack)- 1][\"min\"]\n",
        "\t#O(1) time | O(1) space\n",
        "  def getMax(self):\n",
        "    return self.minMaxStack[len(self.minMaxStack)- 1][\"max\"]\n"
      ],
      "execution_count": 0,
      "outputs": []
    }
  ]
}