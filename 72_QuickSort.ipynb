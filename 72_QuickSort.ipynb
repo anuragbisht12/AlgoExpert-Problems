{
  "nbformat": 4,
  "nbformat_minor": 0,
  "metadata": {
    "colab": {
      "name": "QuickSort.ipynb",
      "provenance": [],
      "collapsed_sections": []
    },
    "kernelspec": {
      "name": "python3",
      "display_name": "Python 3"
    }
  },
  "cells": [
    {
      "cell_type": "code",
      "metadata": {
        "id": "CQeZIfXsqn5Q",
        "colab_type": "code",
        "colab": {}
      },
      "source": [
        "#Best: O(nlogn) time | O(logn) space\n",
        "#average: O(nlogn) time | O(logn) space\n",
        "#worst: O(n^2) time | O(logn) space\n",
        "def quickSort(array):\n",
        "    quickSortHelper(array,0,len(array)-1)\n",
        "\treturn array\n",
        "\n",
        "def quickSortHelper(array,startIdx,endIdx):\n",
        "\tif startIdx >= endIdx:\n",
        "\t\treturn\n",
        "\tpivotIdx = startIdx\n",
        "\tleftIdx = startIdx + 1\n",
        "\trightIdx = endIdx\n",
        "\twhile rightIdx >= leftIdx:\n",
        "\t\tif array[leftIdx] > array[pivotIdx] and array[rightIdx] < array[pivotIdx]:\n",
        "\t\t\tswap(leftIdx, rightIdx, array)\n",
        "\t\tif array[leftIdx] <= array[pivotIdx]:\n",
        "\t\t\tleftIdx += 1\n",
        "\t\tif array[rightIdx] >= array[pivotIdx]:\n",
        "\t\t\trightIdx -=1\n",
        "\tswap(pivotIdx, rightIdx, array)\n",
        "\tleftSubarrayIsSmaller = rightIdx - 1 - startIdx < endIdx - (rightIdx+1)\n",
        "\tif leftSubarrayIsSmaller:\n",
        "\t\tquickSortHelper(array,startIdx,rightIdx - 1)\n",
        "\t\tquickSortHelper(array, rightIdx + 1, endIdx)\n",
        "\telse:\n",
        "\t\tquickSortHelper(array, rightIdx + 1, endIdx)\n",
        "\t\tquickSortHelper(array, startIdx, rightIdx - 1)\n",
        "\t\n",
        "def swap(i,j,array):\n",
        "\tarray[i],array[j]= array[j], array[i]"
      ],
      "execution_count": 0,
      "outputs": []
    }
  ]
}