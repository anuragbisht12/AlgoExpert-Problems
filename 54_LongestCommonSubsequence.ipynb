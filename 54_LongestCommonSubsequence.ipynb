{
  "nbformat": 4,
  "nbformat_minor": 0,
  "metadata": {
    "colab": {
      "name": "LongestCommonSubsequence.ipynb",
      "provenance": [],
      "collapsed_sections": []
    },
    "kernelspec": {
      "name": "python3",
      "display_name": "Python 3"
    }
  },
  "cells": [
    {
      "cell_type": "code",
      "metadata": {
        "id": "zTRgi4LOsYD3",
        "colab_type": "code",
        "colab": {}
      },
      "source": [
        "# least efficient method\n",
        "#O(nm*min(n,m)) time | O(nm*min(n,m)) space\n",
        "def longestCommonSubsequence(str1, str2):\n",
        "\tlcs=[[[] for x in range(len(str1)+1)] for y in range(len(str2)+1)]\n",
        "\tfor i in range(1,len(str2)+1):\n",
        "\t\tfor j in range(1,len(str1)+1):\n",
        "\t\t\tif str2[i-1]==str1[j-1]:\n",
        "\t\t\t\tlcs[i][j]=lcs[i-1][j-1]+ [str2[i-1]]\n",
        "\t\t\telse:\n",
        "\t\t\t\tlcs[i][j]=max(lcs[i-1][j],lcs[i][j-1],key=len)\n",
        "\treturn lcs[-1][-1]\n"
      ],
      "execution_count": 0,
      "outputs": []
    },
    {
      "cell_type": "code",
      "metadata": {
        "id": "V3CAzMh2xEHw",
        "colab_type": "code",
        "colab": {}
      },
      "source": [
        "# Efficient method\n",
        "#O(nm) time | O(nm) space\n",
        "def longestCommonSubsequence(str1, str2):\n",
        "    lcs=[[[None,0,None,None] for x in range(len(str1)+1)] for y in range(len(str2)+1)]\n",
        "\tfor i in range(1,len(str2)+1):\n",
        "\t\tfor j in range(1,len(str1)+1):\n",
        "\t\t\tif str2[i-1]==str1[j-1]:\n",
        "\t\t\t\tlcs[i][j]=[str2[i-1],lcs[i-1][j-1][1]+1,i-1,j-1]\n",
        "\t\t\telse:\n",
        "\t\t\t\tif lcs[i-1][j][1]>lcs[i][j-1][1]:\n",
        "\t\t\t\t\tlcs[i][j]=[None,lcs[i-1][j][1],i-1,j]\n",
        "\t\t\t\telse:\n",
        "\t\t\t\t\tlcs[i][j]=[None,lcs[i][j-1][1],i,j-1]\n",
        "\treturn buildSequence(lcs)\n",
        "\n",
        "def buildSequence(lcs):\n",
        "\tsequence=[]\n",
        "\ti=len(lcs)-1\n",
        "\tj=len(lcs[0])-1\n",
        "\twhile  i!=0 and j!=0:\n",
        "\t\tcurrentEntry = lcs[i][j]\n",
        "\t\tif currentEntry[0] is not None:\n",
        "\t\t\tsequence.append(currentEntry[0])\n",
        "\t\ti=currentEntry[2]\n",
        "\t\tj=currentEntry[3]\n",
        "\treturn list(reversed(sequence))\n",
        "\t"
      ],
      "execution_count": 0,
      "outputs": []
    }
  ]
}