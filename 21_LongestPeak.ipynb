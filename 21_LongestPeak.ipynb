{
  "nbformat": 4,
  "nbformat_minor": 0,
  "metadata": {
    "colab": {
      "name": "LongestPeak.ipynb",
      "provenance": [],
      "collapsed_sections": []
    },
    "kernelspec": {
      "name": "python3",
      "display_name": "Python 3"
    }
  },
  "cells": [
    {
      "cell_type": "code",
      "metadata": {
        "id": "x-rpm3egYDnw",
        "colab_type": "code",
        "colab": {}
      },
      "source": [
        "# O(n) time | O(1) space\n",
        "def longestPeak(array):\n",
        "    longestPeakLength = 0\n",
        "\ti = 1\n",
        "\twhile i < len(array)-1:\n",
        "\t\tisPeak = array[i-1] < array[i] and array[i] > array[i+1]\n",
        "\t\tif not isPeak:\n",
        "\t\t\ti +=1\n",
        "\t\t\tcontinue\n",
        "\t\t\n",
        "\t\tleftIdx = i-2\n",
        "\t\twhile leftIdx >=0 and array[leftIdx] < array[leftIdx+1]:\n",
        "\t\t\tleftIdx -=1\n",
        "\t\t\t\n",
        "\t\trightIdx = i+2\n",
        "\t\twhile rightIdx < len(array) and array[rightIdx] < array[rightIdx -1]:\n",
        "\t\t\trightIdx +=1\n",
        "\t\t\n",
        "\t\tcurrentPeakLength=rightIdx - leftIdx-1\n",
        "\t\tlongestPeakLength=max(longestPeakLength,currentPeakLength)\n",
        "\t\ti=rightIdx\n",
        "\treturn longestPeakLength\n"
      ],
      "execution_count": 0,
      "outputs": []
    }
  ]
}