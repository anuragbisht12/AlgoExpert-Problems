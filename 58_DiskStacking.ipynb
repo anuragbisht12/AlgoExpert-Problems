{
  "nbformat": 4,
  "nbformat_minor": 0,
  "metadata": {
    "colab": {
      "name": "DiskStacking.ipynb",
      "provenance": [],
      "collapsed_sections": []
    },
    "kernelspec": {
      "name": "python3",
      "display_name": "Python 3"
    }
  },
  "cells": [
    {
      "cell_type": "code",
      "metadata": {
        "id": "BbFzXIc5fNwa",
        "colab_type": "code",
        "colab": {}
      },
      "source": [
        "#O(n^2) time | O(n) space\n",
        "def diskStacking(disks):\n",
        "    disks.sort(key=lambda disk:disk[2])\n",
        "\theights=[disk[2] for disk in disks]\n",
        "\tsequences=[None for disk in disks]\n",
        "\tmaxHeightIdx=0\n",
        "\tfor i in range(1,len(disks)):\n",
        "\t\tcurrentDisk=disks[i]\n",
        "\t\tfor j in range(0,i):\n",
        "\t\t\totherDisk=disks[j]\n",
        "\t\t\tif areValidDimensions(otherDisk,currentDisk):\n",
        "\t\t\t\tif heights[i]<=currentDisk[2]+heights[j]:\n",
        "\t\t\t\t\theights[i]=currentDisk[2]+heights[j]\n",
        "\t\t\t\t\tsequences[i]=j\n",
        "\t\tif heights[i]>=heights[maxHeightIdx]:\n",
        "\t\t\tmaxHeightIdx=i\n",
        "\treturn buildSequence(disks,sequences,maxHeightIdx)\n",
        "\n",
        "def areValidDimensions(o,c):\n",
        "\treturn o[0]<c[0] and o[1]<c[1] and o[2]<c[2]\n",
        "\n",
        "def buildSequence(array,sequences,currentIdx):\n",
        "\tsequence=[]\n",
        "\twhile currentIdx is not None:\n",
        "\t\tsequence.append(array[currentIdx])\n",
        "\t\tcurrentIdx=sequences[currentIdx]\n",
        "\treturn list(reversed(sequence))"
      ],
      "execution_count": 0,
      "outputs": []
    }
  ]
}