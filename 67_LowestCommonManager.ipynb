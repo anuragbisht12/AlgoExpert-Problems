{
  "nbformat": 4,
  "nbformat_minor": 0,
  "metadata": {
    "colab": {
      "name": "LowestCommonManager.ipynb",
      "provenance": [],
      "collapsed_sections": []
    },
    "kernelspec": {
      "name": "python3",
      "display_name": "Python 3"
    }
  },
  "cells": [
    {
      "cell_type": "code",
      "metadata": {
        "id": "YrNO4ZMJqlnG",
        "colab_type": "code",
        "colab": {}
      },
      "source": [
        "#O(n) time | O(d) space\n",
        "def getLowestCommonManager(topManager, reportOne, reportTwo):\n",
        "    return getOrgInfo(topManager,reportOne,reportTwo).lowestCommonManager\n",
        "\n",
        "def getOrgInfo(manager,reportOne,reportTwo):\n",
        "\tnumImportantReports=0\n",
        "\tfor directReport in manager.directReports:\n",
        "\t\torgInfo=getOrgInfo(directReport,reportOne,reportTwo)\n",
        "\t\tif orgInfo.lowestCommonManager is not None:\n",
        "\t\t\treturn orgInfo\n",
        "\t\tnumImportantReports+=orgInfo.numImportantReports\n",
        "\tif manager==reportOne or manager ==reportTwo:\n",
        "\t\tnumImportantReports +=1\n",
        "\tlowestCommonManager = manager if numImportantReports ==2 else None\n",
        "\treturn OrgInfo(lowestCommonManager,numImportantReports)\n",
        "\n",
        "class OrgInfo:\n",
        "\tdef __init__(self,lowestCommonManager,numImportantReports):\n",
        "\t\tself.lowestCommonManager =lowestCommonManager\n",
        "\t\tself.numImportantReports = numImportantReports\n"
      ],
      "execution_count": 0,
      "outputs": []
    }
  ]
}