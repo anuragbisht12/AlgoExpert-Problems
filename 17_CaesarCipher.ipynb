{
  "nbformat": 4,
  "nbformat_minor": 0,
  "metadata": {
    "colab": {
      "name": "CaesarCipher.ipynb",
      "provenance": [],
      "collapsed_sections": []
    },
    "kernelspec": {
      "name": "python3",
      "display_name": "Python 3"
    }
  },
  "cells": [
    {
      "cell_type": "code",
      "metadata": {
        "id": "rBIrpSQyqlh0",
        "colab_type": "code",
        "colab": {}
      },
      "source": [
        "#O(n) time | O(n) space\n",
        "def caesarCipherEncryptor(string, key):\n",
        "    newLetters=[]\n",
        "\tnewKey=key%26\n",
        "\talphabet=list(\"abcdefghijklmnopqrstuvwxyz\")\n",
        "\tfor letter in string:\n",
        "\t\tnewLetters.append(getNewLetter(letter,newKey,alphabet))\n",
        "\treturn \"\".join(newLetters)\n",
        "\n",
        "def getNewLetter(letter,key,alphabet):\n",
        "\tnewLetterCode=alphabet.index(letter)+key\n",
        "\treturn alphabet[newLetterCode] if newLetterCode <=25 else \\\n",
        "alphabet[-1+newLetterCode%25]"
      ],
      "execution_count": 0,
      "outputs": []
    }
  ]
}