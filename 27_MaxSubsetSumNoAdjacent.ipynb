{
  "nbformat": 4,
  "nbformat_minor": 0,
  "metadata": {
    "colab": {
      "name": "MaxSubsetSumNoAdjacent.ipynb",
      "provenance": [],
      "collapsed_sections": []
    },
    "kernelspec": {
      "name": "python3",
      "display_name": "Python 3"
    }
  },
  "cells": [
    {
      "cell_type": "code",
      "metadata": {
        "id": "KZLlANis7xkt",
        "colab_type": "code",
        "colab": {}
      },
      "source": [
        "#O(n) time | O(n) space\n",
        "def maxSubsetSumNoAdjacent(array):\n",
        "  if not len(array):\n",
        "\t\treturn 0\n",
        "\telif len(array) ==1:\n",
        "\t\treturn array[0]\n",
        "\tmaxSums=array[:]\n",
        "\tmaxSums[1]=max(array[0],array[1])\n",
        "\t\n",
        "\tfor i in range(2,len(array)):\n",
        "\t\tmaxSums[i]=max(maxSums[i-1],maxSums[i-2]+array[i])\n",
        "\treturn maxSums[-1]\n"
      ],
      "execution_count": 0,
      "outputs": []
    },
    {
      "cell_type": "code",
      "metadata": {
        "id": "nQK-uHuk70Bx",
        "colab_type": "code",
        "colab": {}
      },
      "source": [
        "#O(n) time | O(1) space\n",
        "def maxSubsetSumNoAdjacent(array):\n",
        "\tif not len(array):\n",
        "\t\treturn 0\n",
        "\telif len(array)==1:\n",
        "\t\treturn array[0]\n",
        "\tsecond =array[0]\n",
        "\tfirst=max(array[0],array[1])\n",
        "\tfor i in range(2,len(array)):\n",
        "\t\tcurrent=max(first,second + array[i])\n",
        "\t\tsecond=first\n",
        "\t\tfirst=current\n",
        "\treturn first\n"
      ],
      "execution_count": 0,
      "outputs": []
    }
  ]
}