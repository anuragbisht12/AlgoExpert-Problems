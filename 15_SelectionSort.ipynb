{
  "nbformat": 4,
  "nbformat_minor": 0,
  "metadata": {
    "colab": {
      "name": "SelectionSort.ipynb",
      "provenance": [],
      "collapsed_sections": []
    },
    "kernelspec": {
      "name": "python3",
      "display_name": "Python 3"
    }
  },
  "cells": [
    {
      "cell_type": "code",
      "metadata": {
        "id": "3Xw-88jghqCX",
        "colab_type": "code",
        "colab": {}
      },
      "source": [
        "#Best: O(n^2) time | O(1) space\n",
        "#Average: O(n^2) time | O(1) space\n",
        "#Worst: O(n^2) time | O(1) space\n",
        "def selectionSort(array):\n",
        "\tcurrentIdx=0\n",
        "\twhile currentIdx < len(array)-1:\n",
        "\t\tsmallestIdx = currentIdx\n",
        "\t\tfor i in range(currentIdx+1,len(array)):\n",
        "\t\t\tif array[smallestIdx] > array[i]:\n",
        "\t\t\t\tsmallestIdx = i\n",
        "\t\tswap(currentIdx,smallestIdx,array)\n",
        "\t\tcurrentIdx +=1\n",
        "\treturn array\n",
        "\n",
        "def swap(i,j,array):\n",
        "\tarray[i],array[j]=array[j],array[i]\n"
      ],
      "execution_count": 0,
      "outputs": []
    }
  ]
}