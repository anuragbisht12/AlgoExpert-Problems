{
  "nbformat": 4,
  "nbformat_minor": 0,
  "metadata": {
    "colab": {
      "name": "GroupAnagrams.ipynb",
      "provenance": [],
      "collapsed_sections": []
    },
    "kernelspec": {
      "name": "python3",
      "display_name": "Python 3"
    }
  },
  "cells": [
    {
      "cell_type": "code",
      "metadata": {
        "id": "EeukW1OScZT5",
        "colab_type": "code",
        "colab": {}
      },
      "source": [
        "#O(w*n*log(n)) time | O(wn) space - where w is the number of words and n is length of the longest word\n",
        "def groupAnagrams(words):\n",
        "    anagrams={}\n",
        "\tfor word in words:\n",
        "\t\tsortedWord = \"\".join(sorted(word))\n",
        "\t\tif sortedWord in anagrams:\n",
        "\t\t\tanagrams[sortedWord].append(word)\n",
        "\t\telse:\n",
        "\t\t\tanagrams[sortedWord]=[word]\n",
        "\treturn list(anagrams.values())"
      ],
      "execution_count": 0,
      "outputs": []
    },
    {
      "cell_type": "code",
      "metadata": {
        "id": "bLnrcuJucfWB",
        "colab_type": "code",
        "colab": {}
      },
      "source": [
        "#O(w*n*log(n)+n*w*log(w)) time | O(wn) space - where w is the number of words and\n",
        "#n is the length of the longest word\n",
        "def groupAnagrams(words):\n",
        "    if len(words) == 0:\n",
        "\t\treturn []\n",
        "\t\n",
        "\tsortedWords = [\"\".join(sorted(w)) for w in words]\n",
        "\tindices = [i for i in range(len(words))]\n",
        "\tindices.sort(key=lambda x:sortedWords[x])\n",
        "\t\n",
        "\tresult= []\n",
        "\tcurrentAnagramGroup = []\n",
        "\tcurrentAnagram = sortedWords[indices[0]]\n",
        "\tfor index in indices:\n",
        "\t\tword = words[index]\n",
        "\t\tsortedWord = sortedWords[index]\n",
        "\t\t\n",
        "\t\tif sortedWord == currentAnagram:\n",
        "\t\t\tcurrentAnagramGroup.append(word)\n",
        "\t\t\tcontinue\n",
        "\t\t\n",
        "\t\tresult.append(currentAnagramGroup)\n",
        "\t\tcurrentAnagramGroup =[word]\n",
        "\t\tcurrentAnagram = sortedWord\n",
        "\t\n",
        "\tresult.append(currentAnagramGroup)\n",
        "\t\n",
        "\treturn result\n",
        "\t"
      ],
      "execution_count": 0,
      "outputs": []
    }
  ]
}