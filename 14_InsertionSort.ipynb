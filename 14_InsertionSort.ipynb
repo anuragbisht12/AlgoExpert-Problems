{
  "nbformat": 4,
  "nbformat_minor": 0,
  "metadata": {
    "colab": {
      "name": "InsertionSort.ipynb",
      "provenance": [],
      "collapsed_sections": []
    },
    "kernelspec": {
      "name": "python3",
      "display_name": "Python 3"
    }
  },
  "cells": [
    {
      "cell_type": "code",
      "metadata": {
        "id": "05k6fvBQayqs",
        "colab_type": "code",
        "colab": {}
      },
      "source": [
        "#Best: O(n) time| O(1) space\n",
        "#average: O(n^2) time | O(1) space\n",
        "#Worst: O(n^2) time  | O(1) space\n",
        "def insertionSort(array):\n",
        "    for i in range(1,len(array)):\n",
        "\t\tj=i\n",
        "\t\twhile j>0 and array[j]<array[j-1]:\n",
        "\t\t\tswap(j,j-1,array)\n",
        "\t\t\tj-=1\n",
        "\treturn array\n",
        "\n",
        "def swap(i,j,array):\n",
        "\tarray[i],array[j]=array[j],array[i]\n"
      ],
      "execution_count": 0,
      "outputs": []
    }
  ]
}