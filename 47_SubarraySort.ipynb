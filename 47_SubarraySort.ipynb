{
  "nbformat": 4,
  "nbformat_minor": 0,
  "metadata": {
    "colab": {
      "name": "SubarraySort.ipynb",
      "provenance": [],
      "collapsed_sections": []
    },
    "kernelspec": {
      "name": "python3",
      "display_name": "Python 3"
    }
  },
  "cells": [
    {
      "cell_type": "code",
      "metadata": {
        "id": "r_VCEbiOS9Z4",
        "colab_type": "code",
        "colab": {}
      },
      "source": [
        "#o(n) time | O(1) space\n",
        "def subarraySort(array):\n",
        "  minOutOfOrder = float('inf')\n",
        "\tmaxOutOfOrder = float('-inf')\n",
        "\tfor i in range(len(array)):\n",
        "\t\tnum =array[i]\n",
        "\t\tif isOutOfOrder(i,num,array):\n",
        "\t\t\tminOutOfOrder = min(minOutOfOrder,num)\n",
        "\t\t\tmaxOutOfOrder = max(maxOutOfOrder,num)\n",
        "\tif minOutOfOrder == float('inf'):\n",
        "\t\treturn [-1,-1]\n",
        "\tsubarrayLeftIdx =0\n",
        "\twhile minOutOfOrder >= array[subarrayLeftIdx]:\n",
        "\t\tsubarrayLeftIdx +=1\n",
        "\tsubarrayRightIdx= len(array)-1\n",
        "\twhile maxOutOfOrder <= array[subarrayRightIdx]:\n",
        "\t\tsubarrayRightIdx -=1\n",
        "\treturn [subarrayLeftIdx,subarrayRightIdx]\n",
        "\n",
        "def isOutOfOrder(i,num,array):\n",
        "\tif i==0:\n",
        "\t\treturn num>array[i+1]\n",
        "\tif i==len(array)-1:\n",
        "\t\treturn num < array[i-1]\n",
        "\treturn num > array[i+1] or num < array[i-1]"
      ],
      "execution_count": 0,
      "outputs": []
    }
  ]
}