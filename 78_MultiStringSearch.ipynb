{
  "nbformat": 4,
  "nbformat_minor": 0,
  "metadata": {
    "colab": {
      "name": "78_MultiStringSearch.ipynb",
      "provenance": [],
      "collapsed_sections": []
    },
    "kernelspec": {
      "name": "python3",
      "display_name": "Python 3"
    }
  },
  "cells": [
    {
      "cell_type": "code",
      "metadata": {
        "id": "4V2RBX5K42cS",
        "colab_type": "code",
        "colab": {}
      },
      "source": [
        "# O(ns+bs) time | O(ns) space\n",
        "def multiStringSearch(bigString, smallStrings):\n",
        "    trie=Trie()\n",
        "\tfor string in smallStrings:\n",
        "\t\ttrie.insert(string)\n",
        "\tcontainedStrings={}\n",
        "\tfor i in range(len(bigString)):\n",
        "\t\tfindSmallStringsIn(bigString, i, trie, containedStrings)\n",
        "\treturn [string in containedStrings for string in smallStrings]\n",
        "\n",
        "def findSmallStringsIn(string, startIdx, trie, containedStrings):\n",
        "\tcurrentNode =trie.root\n",
        "\tfor i in range(startIdx, len(string)):\n",
        "\t\tcurrentChar=string[i]\n",
        "\t\tif currentChar not in currentNode:\n",
        "\t\t\tbreak\n",
        "\t\tcurrentNode=currentNode[currentChar]\n",
        "\t\tif trie.endSymbol in currentNode:\n",
        "\t\t\tcontainedStrings[currentNode[trie.endSymbol]]= True\n",
        "\n",
        "class Trie:\n",
        "\tdef __init__(self):\n",
        "\t\tself.root={}\n",
        "\t\tself.endSymbol=\"*\"\n",
        "\t\t\n",
        "\tdef insert(self,string):\n",
        "\t\tcurrent=self.root\n",
        "\t\tfor i in range(len(string)):\n",
        "\t\t\tif string[i] not in current:\n",
        "\t\t\t\tcurrent[string[i]]={}\n",
        "\t\t\tcurrent=current[string[i]]\n",
        "\t\tcurrent[self.endSymbol]=string\n"
      ],
      "execution_count": null,
      "outputs": []
    },
    {
      "cell_type": "code",
      "metadata": {
        "id": "IpR8ts4345tu",
        "colab_type": "code",
        "colab": {}
      },
      "source": [
        "# O(b^2+ns) time | O(b^2+n) space\n",
        "def multiStringSearch(bigString, smallStrings):\n",
        "    modifiedSuffixTrie=ModifiedSuffixTrie(bigString)\n",
        "\treturn [modifiedSuffixTrie.contains(string) for string in smallStrings]\n",
        "\n",
        "class ModifiedSuffixTrie:\n",
        "\tdef __init__(self,string):\n",
        "\t\tself.root={}\n",
        "\t\tself.populateModifiedSuffixTrieFrom(string)\n",
        "\t\n",
        "\tdef populateModifiedSuffixTrieFrom(self,string):\n",
        "\t\tfor i in range(len(string)):\n",
        "\t\t\tself.insertSubstringStartingAt(i,string)\n",
        "\t\t\t\n",
        "\tdef insertSubstringStartingAt(self,i, string):\n",
        "\t\tnode =self.root\n",
        "\t\tfor j in range(i,len(string)):\n",
        "\t\t\tletter =string[j]\n",
        "\t\t\tif letter not in node:\n",
        "\t\t\t\tnode[letter]={}\n",
        "\t\t\tnode=node[letter]\n",
        "\t\n",
        "\tdef contains(self,string):\n",
        "\t\tnode=self.root\n",
        "\t\tfor letter in string:\n",
        "\t\t\tif letter not in node:\n",
        "\t\t\t\treturn False\n",
        "\t\t\tnode = node[letter]\n",
        "\t\treturn True\n",
        "\t\t\t"
      ],
      "execution_count": null,
      "outputs": []
    },
    {
      "cell_type": "code",
      "metadata": {
        "id": "LYGZ1Upd49mb",
        "colab_type": "code",
        "colab": {}
      },
      "source": [
        "# O(bns) time | O(n) space\n",
        "def multiStringSearch(bigString, smallStrings):\n",
        "    return [isInBigString(bigString,smallString) for smallString in smallStrings]\n",
        "\n",
        "def isInBigString(bigString, smallString):\n",
        "\tfor i in range(len(bigString)):\n",
        "\t\tif i+len(smallString)>len(bigString):\n",
        "\t\t\tbreak\n",
        "\t\tif isInBigStringHelper(bigString, smallString, i):\n",
        "\t\t\treturn True\n",
        "\treturn False\n",
        "\n",
        "def isInBigStringHelper(bigString, smallString, startIdx):\n",
        "\tleftBigIdx=startIdx\n",
        "\trightBigIdx=startIdx+len(smallString)-1\n",
        "\tleftSmallIdx=0\n",
        "\trightSmallIdx=len(smallString)-1\n",
        "\twhile leftBigIdx <= rightBigIdx:\n",
        "\t\tif bigString[leftBigIdx]!= smallString[leftSmallIdx] or bigString[rightBigIdx]!=smallString[rightSmallIdx]:\n",
        "\t\t\tpass\n",
        "\t\tleftBigIdx +=1\n",
        "\t\trightBigIdx -=1\n",
        "\t\tleftSmallIdx +=1\n",
        "\t\trightSmallIdx -=1\n",
        "\treturn True"
      ],
      "execution_count": null,
      "outputs": []
    }
  ]
}