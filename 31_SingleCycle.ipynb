{
  "nbformat": 4,
  "nbformat_minor": 0,
  "metadata": {
    "colab": {
      "name": "SingleCycle.ipynb",
      "provenance": [],
      "collapsed_sections": []
    },
    "kernelspec": {
      "name": "python3",
      "display_name": "Python 3"
    }
  },
  "cells": [
    {
      "cell_type": "code",
      "metadata": {
        "id": "-puxgx1Y-5oF",
        "colab_type": "code",
        "colab": {}
      },
      "source": [
        "# O(n) time | O(1) space\n",
        "def hasSingleCycle(array):\n",
        "  numElementsVisited =0\n",
        "\tcurrentIdx =0\n",
        "\twhile numElementsVisited < len(array):\n",
        "\t\tif numElementsVisited > 0 and currentIdx ==0:\n",
        "\t\t\treturn False\n",
        "\t\tnumElementsVisited +=1\n",
        "\t\tcurrentIdx = getNextIdx(currentIdx,array)\n",
        "\treturn currentIdx == 0\n",
        "\n",
        "def getNextIdx(currentIdx,array):\n",
        "\tjump = array[currentIdx]\n",
        "\tnextIdx = (currentIdx+ jump)% len(array)\n",
        "\treturn nextIdx if nextIdx >=0 else nextIdx + len(array)\n"
      ],
      "execution_count": 0,
      "outputs": []
    }
  ]
}