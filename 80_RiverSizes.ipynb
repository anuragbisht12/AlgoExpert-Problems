{
  "nbformat": 4,
  "nbformat_minor": 0,
  "metadata": {
    "colab": {
      "name": "80_RiverSizes.ipynb",
      "provenance": [],
      "collapsed_sections": []
    },
    "kernelspec": {
      "name": "python3",
      "display_name": "Python 3"
    }
  },
  "cells": [
    {
      "cell_type": "code",
      "metadata": {
        "id": "Aln1ZAPDWIoZ",
        "colab_type": "code",
        "colab": {}
      },
      "source": [
        "def riverSizes(matrix):\n",
        "    sizes=[]\n",
        "\tvisited = [[False for value in row] for row in matrix]\n",
        "\tfor i in range(len(matrix)):\n",
        "\t\tfor j in range(len(matrix[i])):\n",
        "\t\t\tif visited[i][j]:\n",
        "\t\t\t\tcontinue\n",
        "\t\t\ttraverseNode(i,j,matrix, visited, sizes)\n",
        "\treturn sizes\n",
        "\n",
        "def traverseNode(i,j,matrix, visited, sizes):\n",
        "\tcurrentRiverSize = 0\n",
        "\tnodesToExplore=[[i,j]]\n",
        "\twhile len(nodesToExplore):\n",
        "\t\tcurrentNode = nodesToExplore.pop()\n",
        "\t\ti = currentNode[0]\n",
        "\t\tj= currentNode[1]\n",
        "\t\tif visited[i][j]:\n",
        "\t\t\tcontinue\n",
        "\t\tvisited[i][j]= True\n",
        "\t\tif matrix[i][j] ==0:\n",
        "\t\t\tcontinue\n",
        "\t\tcurrentRiverSize +=1\n",
        "\t\tunvisitedNeighbors = getUnvisitedNeighbors(i,j, matrix, visited)\n",
        "\t\tfor neighbor in unvisitedNeighbors:\n",
        "\t\t\tnodesToExplore.append(neighbor)\n",
        "\tif currentRiverSize > 0:\n",
        "\t\tsizes.append(currentRiverSize)\n",
        "\t\t\n",
        "def getUnvisitedNeighbors(i,j, matrix, visited):\n",
        "\tunvisitedNeighbors =[]\n",
        "\tif i>0 and not visited[i-1][j]:\n",
        "\t\tunvisitedNeighbors.append([i-1,j])\n",
        "\tif i<len(matrix)-1 and not visited[i+1][j]:\n",
        "\t\tunvisitedNeighbors.append([i+1,j])\n",
        "\tif j>0 and not visited[i][j-1]:\n",
        "\t\tunvisitedNeighbors.append([i,j-1])\n",
        "\tif j<len(matrix[0])-1 and not visited[i][j+1]:\n",
        "\t\tunvisitedNeighbors.append([i,j+1])\n",
        "\treturn unvisitedNeighbors"
      ],
      "execution_count": null,
      "outputs": []
    }
  ]
}