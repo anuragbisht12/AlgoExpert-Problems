{
  "nbformat": 4,
  "nbformat_minor": 0,
  "metadata": {
    "colab": {
      "name": "Kadane_MaxSum.ipynb",
      "provenance": [],
      "collapsed_sections": []
    },
    "kernelspec": {
      "name": "python3",
      "display_name": "Python 3"
    }
  },
  "cells": [
    {
      "cell_type": "code",
      "metadata": {
        "id": "ZD3-4Irr0Vba",
        "colab_type": "code",
        "colab": {}
      },
      "source": [
        "#O(n) time | O(1) space\n",
        "def kadanesAlgorithm(array):\n",
        "    maxEndingHere=array[0]\n",
        "\tmaxSoFar=array[0]\n",
        "\tfor i in range(1,len(array)):\n",
        "\t\tnum = array[i]\n",
        "\t\tmaxEndingHere =max(num,maxEndingHere+num)\n",
        "\t\tmaxSoFar= max(maxSoFar,maxEndingHere)\n",
        "\treturn maxSoFar\n"
      ],
      "execution_count": 0,
      "outputs": []
    }
  ]
}