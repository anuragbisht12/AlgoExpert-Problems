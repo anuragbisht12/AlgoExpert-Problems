{
  "nbformat": 4,
  "nbformat_minor": 0,
  "metadata": {
    "colab": {
      "name": "61_BoggleBoard.ipynb",
      "provenance": [],
      "collapsed_sections": []
    },
    "kernelspec": {
      "name": "python3",
      "display_name": "Python 3"
    }
  },
  "cells": [
    {
      "cell_type": "code",
      "metadata": {
        "id": "-H0bnc3Vlm0t",
        "colab_type": "code",
        "colab": {}
      },
      "source": [
        "def boggleBoard(board, words):\n",
        "    trie=Trie()\n",
        "\tfor word in words:\n",
        "\t\ttrie.add(word)\n",
        "\tfinalWords={}\n",
        "\tvisited=[[False for letter in row] for row in board]\n",
        "\tfor i in range(len(board)):\n",
        "\t\tfor j in range(len(board[i])):\n",
        "\t\t\texplore(i,j,board,trie.root,visited,finalWords)\n",
        "\treturn list(finalWords.keys())\n",
        "\n",
        "\n",
        "def explore(i,j, board, trieNode, visited, finalWords):\n",
        "\tif visited[i][j]:\n",
        "\t\treturn \n",
        "\tletter = board[i][j]\n",
        "\tif letter not in trieNode:\n",
        "\t\treturn\n",
        "\tvisited[i][j]= True\n",
        "\ttrieNode = trieNode[letter]\n",
        "\tif \"*\" in trieNode:\n",
        "\t\tfinalWords[trieNode[\"*\"]]=True\n",
        "\tneighbors=getNeighbors(i,j,board)\n",
        "\tfor neighbor in neighbors:\n",
        "\t\texplore(neighbor[0],neighbor[1], board, trieNode, visited, finalWords)\n",
        "\tvisited[i][j] = False\n",
        "\n",
        "def getNeighbors(i,j,board):\n",
        "\tneighbors=[]\n",
        "\tif i>0 and j>0:\n",
        "\t\tneighbors.append([i-1,j-1])\n",
        "\tif i>0 and j< len(board[0])-1:\n",
        "\t\tneighbors.append([i-1,j+1])\n",
        "\tif i< len(board)-1 and j<len(board[0])-1:\n",
        "\t\tneighbors.append([i+1,j+1])\n",
        "\tif i<len(board)-1 and j>0:\n",
        "\t\tneighbors.append([i+1,j-1])\n",
        "\tif i>0:\n",
        "\t\tneighbors.append([i-1,j])\n",
        "\tif i<len(board)-1:\n",
        "\t\tneighbors.append([i+1,j])\n",
        "\tif j>0:\n",
        "\t\tneighbors.append([i,j-1])\n",
        "\tif j< len(board[0])-1:\n",
        "\t\tneighbors.append([i,j+1])\n",
        "\treturn neighbors\n",
        "\n",
        "class Trie:\n",
        "\tdef __init__(self):\n",
        "\t\tself.root={}\n",
        "\t\tself.endSymbol=\"*\"\n",
        "\t\n",
        "\tdef add(self,word):\n",
        "\t\tcurrent=self.root\n",
        "\t\tfor letter in word:\n",
        "\t\t\tif letter not in current:\n",
        "\t\t\t\tcurrent[letter]={}\n",
        "\t\t\tcurrent=current[letter]\n",
        "\t\tcurrent[self.endSymbol]= word"
      ],
      "execution_count": null,
      "outputs": []
    }
  ]
}