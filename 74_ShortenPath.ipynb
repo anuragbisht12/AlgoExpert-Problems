{
  "nbformat": 4,
  "nbformat_minor": 0,
  "metadata": {
    "colab": {
      "name": "ShortenPath.ipynb",
      "provenance": [],
      "collapsed_sections": []
    },
    "kernelspec": {
      "name": "python3",
      "display_name": "Python 3"
    }
  },
  "cells": [
    {
      "cell_type": "code",
      "metadata": {
        "id": "Rut5IsbrD_wE",
        "colab_type": "code",
        "colab": {}
      },
      "source": [
        "#O(n) time | O(n) space\n",
        "def shortenPath(path):\n",
        "    startsWithSlash=path[0]==\"/\"\n",
        "\ttokens=filter(isImportantToken,path.split(\"/\"))\n",
        "\tstack=[]\n",
        "\tif startsWithSlash:\n",
        "\t\tstack.append(\"\")\n",
        "\tfor token in tokens:\n",
        "\t\tif  token == \"..\":\n",
        "\t\t\tif len(stack) == 0 or stack[-1] ==\"..\":\n",
        "\t\t\t\tstack.append(token)\n",
        "\t\t\telif stack[-1] !=\"\":\n",
        "\t\t\t\tstack.pop()\n",
        "\t\telse:\n",
        "\t\t\tstack.append(token)\n",
        "\t\n",
        "\tif len(stack)==1 and stack[0]==\"\":\n",
        "\t\treturn \"/\"\n",
        "\treturn \"/\".join(stack)\n",
        "\n",
        "def isImportantToken(token):\n",
        "\treturn len(token)>0 and token != \".\"\n"
      ],
      "execution_count": null,
      "outputs": []
    }
  ]
}