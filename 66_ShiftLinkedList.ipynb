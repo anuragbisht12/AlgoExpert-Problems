{
  "nbformat": 4,
  "nbformat_minor": 0,
  "metadata": {
    "colab": {
      "name": "ShiftLinkedList.ipynb",
      "provenance": [],
      "collapsed_sections": []
    },
    "kernelspec": {
      "name": "python3",
      "display_name": "Python 3"
    }
  },
  "cells": [
    {
      "cell_type": "code",
      "metadata": {
        "id": "eGRpTfwth59F",
        "colab_type": "code",
        "colab": {}
      },
      "source": [
        "#O(n) time | O(1) space\n",
        "def shiftLinkedList(head, k):\n",
        "    listLength=1\n",
        "\tlistTail=head\n",
        "\twhile listTail.next is not None:\n",
        "\t\tlistTail=listTail.next\n",
        "\t\tlistLength+=1\n",
        "    \n",
        "\toffset =abs(k) % listLength\n",
        "\tif offset ==0:\n",
        "\t\treturn head\n",
        "\tnewTailPosition =listLength -offset if k>0 else offset\n",
        "\tnewTail=head\n",
        "\tfor i in range(1,newTailPosition):\n",
        "\t\tnewTail=newTail.next\n",
        "\t\n",
        "\tnewHead=newTail.next\n",
        "\tnewTail.next=None\n",
        "\tlistTail.next=head\n",
        "\treturn newHead\n",
        "\n",
        "\n",
        "# This is the class of the input linked list.\n",
        "class LinkedList:\n",
        "    def __init__(self, value):\n",
        "        self.value = value\n",
        "        self.next = None\n"
      ],
      "execution_count": 0,
      "outputs": []
    }
  ]
}