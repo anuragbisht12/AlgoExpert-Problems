{
  "nbformat": 4,
  "nbformat_minor": 0,
  "metadata": {
    "colab": {
      "name": "InterweavingStrings.ipynb",
      "provenance": [],
      "collapsed_sections": []
    },
    "kernelspec": {
      "name": "python3",
      "display_name": "Python 3"
    }
  },
  "cells": [
    {
      "cell_type": "code",
      "metadata": {
        "id": "1kqIBDILXu5p",
        "colab_type": "code",
        "colab": {}
      },
      "source": [
        "#without cache\n",
        "#O(2^(n+m)) time | O(n+m) space \n",
        "def interweavingStrings(one, two, three):\n",
        "    if len(three) !=len(one)+len(two):\n",
        "\t\treturn False\n",
        "\t\n",
        "\treturn areInterwoven(one,two,three,0,0)\n",
        "\n",
        "def areInterwoven(one, two, three, i, j):\n",
        "\tk = i + j\n",
        "\tif k == len(three):\n",
        "\t\treturn True\n",
        "\t\n",
        "\tif i < len(one) and one[i] == three[k]:\n",
        "\t\tif areInterwoven(one, two,three, i+1, j):\n",
        "\t\t\treturn True\n",
        "\t\n",
        "\tif j < len(two) and two[j] == three[k]:\n",
        "\t\treturn areInterwoven(one, two, three, i, j+1)\n",
        "\t\n",
        "\treturn False\n"
      ],
      "execution_count": 0,
      "outputs": []
    },
    {
      "cell_type": "code",
      "metadata": {
        "id": "5AYK_hFjX0Sx",
        "colab_type": "code",
        "colab": {}
      },
      "source": [
        "#o(nm) time | O(nm) space\n",
        "def interweavingStrings(one, two, three):\n",
        "    if len(three) !=len(one)+len(two):\n",
        "\t\treturn False\n",
        "\t\n",
        "\tcache = [[None for j in range(len(two)+1)] for i in range(len(one)+1)]\n",
        "\treturn areInterwoven(one,two,three,0,0,cache)\n",
        "\n",
        "def areInterwoven(one, two, three, i, j,cache):\n",
        "\tif cache[i][j] is not None:\n",
        "\t\treturn cache[i][j]\n",
        "\t\n",
        "\tk = i + j\n",
        "\tif k == len(three):\n",
        "\t\treturn True\n",
        "\t\n",
        "\tif i < len(one) and one[i] == three[k]:\n",
        "\t\tcache[i][j] = areInterwoven(one, two, three,i+1,j, cache)\n",
        "\t\tif cache[i][j]:\n",
        "\t\t\treturn True\n",
        "\t\n",
        "\tif j < len(two) and two[j] == three[k]:\n",
        "\t\tcache[i][j] = areInterwoven(one, two, three, i, j+1, cache)\n",
        "\t\treturn cache[i][j]\n",
        "\t\n",
        "\tcache[i][j] = False\n",
        "\treturn False\n"
      ],
      "execution_count": 0,
      "outputs": []
    }
  ]
}