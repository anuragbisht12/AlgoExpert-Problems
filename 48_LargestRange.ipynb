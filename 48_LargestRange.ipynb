{
  "nbformat": 4,
  "nbformat_minor": 0,
  "metadata": {
    "colab": {
      "name": "LargestRange.ipynb",
      "provenance": [],
      "collapsed_sections": []
    },
    "kernelspec": {
      "name": "python3",
      "display_name": "Python 3"
    }
  },
  "cells": [
    {
      "cell_type": "code",
      "metadata": {
        "id": "cVj_wJj3dCeo",
        "colab_type": "code",
        "colab": {}
      },
      "source": [
        "#O(n) time  | O(n)  space\n",
        "def largestRange(array):\n",
        "  bestRange=[]\n",
        "\tlongestLength=0\n",
        "\tnums={}\n",
        "\tfor num in array:\n",
        "\t\tnums[num]=True\n",
        "\tfor num in array:\n",
        "\t\tif not nums[num]:\n",
        "\t\t\tcontinue\n",
        "\t\tnums[num] =False\n",
        "\t\tcurrentLength=1\n",
        "\t\tleft=num-1\n",
        "\t\tright=num+1\n",
        "\t\twhile left in nums:\n",
        "\t\t\tnums[left]=False\n",
        "\t\t\tcurrentLength+=1\n",
        "\t\t\tleft -=1\n",
        "\t\twhile right in nums:\n",
        "\t\t\tnums[right]=False\n",
        "\t\t\tcurrentLength +=1\n",
        "\t\t\tright +=1\n",
        "\t\tif currentLength > longestLength:\n",
        "\t\t\tlongestLength =currentLength\n",
        "\t\t\tbestRange=[left+1,right-1]\n",
        "\treturn bestRange\n"
      ],
      "execution_count": 0,
      "outputs": []
    }
  ]
}