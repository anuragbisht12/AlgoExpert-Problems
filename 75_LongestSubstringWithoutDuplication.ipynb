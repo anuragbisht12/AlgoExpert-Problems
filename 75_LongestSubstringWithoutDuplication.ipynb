{
  "nbformat": 4,
  "nbformat_minor": 0,
  "metadata": {
    "colab": {
      "name": "LongestSubstringWithoutDuplication.ipynb",
      "provenance": [],
      "collapsed_sections": []
    },
    "kernelspec": {
      "name": "python3",
      "display_name": "Python 3"
    }
  },
  "cells": [
    {
      "cell_type": "code",
      "metadata": {
        "id": "OC24QrlUPByJ",
        "colab_type": "code",
        "colab": {}
      },
      "source": [
        "#O(n) time | O(min(n,a)) space\n",
        "def longestSubstringWithoutDuplication(string):\n",
        "    lastSeen = {}\n",
        "\tlongest = [0,1]\n",
        "\tstartIdx = 0\n",
        "\tfor i, char in enumerate(string):\n",
        "\t\tif char in lastSeen:\n",
        "\t\t\tstartIdx = max(startIdx, lastSeen[char]+1)\n",
        "\t\tif longest[1] - longest[0] < i + 1 - startIdx:\n",
        "\t\t\tlongest = [startIdx, i+1]\n",
        "\t\tlastSeen[char] = i\n",
        "\treturn string[longest[0]:longest[1]]"
      ],
      "execution_count": null,
      "outputs": []
    }
  ]
}