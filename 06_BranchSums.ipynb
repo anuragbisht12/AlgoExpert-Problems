{
  "nbformat": 4,
  "nbformat_minor": 0,
  "metadata": {
    "colab": {
      "name": "BranchSums.ipynb",
      "provenance": [],
      "collapsed_sections": []
    },
    "kernelspec": {
      "name": "python3",
      "display_name": "Python 3"
    }
  },
  "cells": [
    {
      "cell_type": "code",
      "metadata": {
        "id": "XaD08WTxXGNT",
        "colab_type": "code",
        "colab": {}
      },
      "source": [
        "# This is the class of the input root. Do not edit it.\n",
        "class BinaryTree:\n",
        "    def __init__(self, value):\n",
        "        self.value = value\n",
        "        self.left = None\n",
        "        self.right = None\n",
        "\n",
        "# Time O(N) | Space O(N)\n",
        "def branchSums(root):\n",
        "    sums=[]\n",
        "\tcalculateBranchSums(root,0,sums)\n",
        "\treturn sums\n",
        "\n",
        "def calculateBranchSums(node,runningSum,sums):\n",
        "\tif node is None:\n",
        "\t\treturn\n",
        "\t\n",
        "\tnewRunningSum = runningSum + node.value\n",
        "\tif node.left is None and node.right is None:\n",
        "\t\tsums.append(newRunningSum)\n",
        "\t\treturn\n",
        "\t\n",
        "\tcalculateBranchSums(node.left,newRunningSum,sums)\n",
        "\tcalculateBranchSums(node.right,newRunningSum,sums)\n",
        "\t"
      ],
      "execution_count": 0,
      "outputs": []
    }
  ]
}
