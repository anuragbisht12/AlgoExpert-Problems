{
  "nbformat": 4,
  "nbformat_minor": 0,
  "metadata": {
    "colab": {
      "name": "FindThreeLargestNumber.ipynb",
      "provenance": [],
      "collapsed_sections": []
    },
    "kernelspec": {
      "name": "python3",
      "display_name": "Python 3"
    }
  },
  "cells": [
    {
      "cell_type": "code",
      "metadata": {
        "id": "5JGbGWMURT6D",
        "colab_type": "code",
        "colab": {}
      },
      "source": [
        "# Time O(n) | Space O(1)\n",
        "def findThreeLargestNumbers(array):\n",
        "\tthreeLargest=[None,None,None]\n",
        "\tfor num in array:\n",
        "\t\tupdateLargest(threeLargest,num)\n",
        "\treturn threeLargest\n",
        "\n",
        "def updateLargest(threeLargest, num):\n",
        "\tif threeLargest[2] is None or num > threeLargest[2]:\n",
        "\t\tshiftAndUpdate(threeLargest,num,2)\n",
        "\telif threeLargest[1] is None or num > threeLargest[1]:\n",
        "\t\tshiftAndUpdate(threeLargest,num,1)\n",
        "\telif threeLargest[0] is None or num > threeLargest[0]:\n",
        "\t\tshiftAndUpdate(threeLargest,num,0)\n",
        "\t\n",
        "def shiftAndUpdate(array,num,idx):\n",
        "\tfor i in range(idx+1):\n",
        "\t\tif i == idx:\n",
        "\t\t\tarray[i] = num\n",
        "\t\telse:\n",
        "\t\t\tarray[i] = array[i+1]\n"
      ],
      "execution_count": 0,
      "outputs": []
    }
  ]
}