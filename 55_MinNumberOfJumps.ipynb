{
  "nbformat": 4,
  "nbformat_minor": 0,
  "metadata": {
    "colab": {
      "name": "MinNumberOfJumps.ipynb",
      "provenance": [],
      "collapsed_sections": []
    },
    "kernelspec": {
      "name": "python3",
      "display_name": "Python 3"
    }
  },
  "cells": [
    {
      "cell_type": "code",
      "metadata": {
        "id": "8NLHE6It8iW9",
        "colab_type": "code",
        "colab": {}
      },
      "source": [
        "# least efficient method\n",
        "#O(n^2) time | O(n) space\n",
        "def minNumberOfJumps(array):\n",
        "    jumps=[float('inf') for x in array]\n",
        "\tjumps[0]=0\n",
        "\tfor i in range(1,len(array)):\n",
        "\t\tfor j in range(0,i):\n",
        "\t\t\tif array[j]+j>=i:\n",
        "\t\t\t\tjumps[i]=min(jumps[j]+1,jumps[i])\n",
        "\treturn jumps[-1]\n"
      ],
      "execution_count": 0,
      "outputs": []
    },
    {
      "cell_type": "code",
      "metadata": {
        "id": "zdvXWiju8qHc",
        "colab_type": "code",
        "colab": {}
      },
      "source": [
        "# O(n) time | O(1) space\n",
        "def minNumberOfJumps(array):\n",
        "    if len(array)==1:\n",
        "\t\treturn 0\n",
        "\tjumps=0\n",
        "\tmaxReach=array[0]\n",
        "\tsteps=array[0]\n",
        "\tfor i in range(1,len(array)-1):\n",
        "\t\tmaxReach=max(maxReach,i+array[i])\n",
        "\t\tsteps -=1\n",
        "\t\tif steps ==0:\n",
        "\t\t\tjumps+=1\n",
        "\t\t\tsteps=maxReach - i\n",
        "\treturn jumps + 1"
      ],
      "execution_count": 0,
      "outputs": []
    }
  ]
}