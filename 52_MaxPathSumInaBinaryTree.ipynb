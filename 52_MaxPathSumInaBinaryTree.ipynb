{
  "nbformat": 4,
  "nbformat_minor": 0,
  "metadata": {
    "colab": {
      "name": "MaxPathSumInaBinaryTree.ipynb",
      "provenance": [],
      "collapsed_sections": []
    },
    "kernelspec": {
      "name": "python3",
      "display_name": "Python 3"
    }
  },
  "cells": [
    {
      "cell_type": "code",
      "metadata": {
        "id": "VjnDf1N_V9ln",
        "colab_type": "code",
        "colab": {}
      },
      "source": [
        "#O(n) time | O(log(n)) space\n",
        "def maxPathSum(tree):\n",
        "    _,maxSum = findMaxSum(tree)\n",
        "\treturn maxSum\n",
        "\n",
        "def findMaxSum(tree):\n",
        "\tif tree is None:\n",
        "\t\treturn (0,float('-inf'))\n",
        "\t\n",
        "\tleftMaxSumAsBranch, leftMaxPathSum = findMaxSum(tree.left)\n",
        "\trightMaxSumAsBranch, rightMaxPathSum = findMaxSum(tree.right)\n",
        "\tmaxChildSumAsBranch = max(leftMaxSumAsBranch, rightMaxSumAsBranch)\n",
        "\t\n",
        "\tvalue =tree.value\n",
        "\tmaxSumAsBranch = max(maxChildSumAsBranch+value,value)\n",
        "\tmaxSumAsRootNode = max(leftMaxSumAsBranch+value+rightMaxSumAsBranch, maxSumAsBranch)\n",
        "\tmaxPathSum=max(leftMaxPathSum,rightMaxPathSum, maxSumAsRootNode)\n",
        "\t\n",
        "\treturn (maxSumAsBranch,maxPathSum)\n"
      ],
      "execution_count": 0,
      "outputs": []
    }
  ]
}