{
  "nbformat": 4,
  "nbformat_minor": 0,
  "metadata": {
    "colab": {
      "name": "LongestPallindromeinString.ipynb",
      "provenance": [],
      "collapsed_sections": []
    },
    "kernelspec": {
      "name": "python3",
      "display_name": "Python 3"
    }
  },
  "cells": [
    {
      "cell_type": "code",
      "metadata": {
        "id": "19jYq7pnRB3U",
        "colab_type": "code",
        "colab": {}
      },
      "source": [
        "#O(n^2) time | O(1) space\n",
        "def longestPalindromicSubstring(string):\n",
        "    currentLongest=[0,1]\n",
        "\tfor i in range(1,len(string)):\n",
        "\t\todd = getLongestPalindromeFrom(string,i-1,i+1)\n",
        "\t\teven = getLongestPalindromeFrom(string,i-1,i)\n",
        "\t\tlongest = max(odd, even, key=lambda x: x[1] - x[0])\n",
        "\t\tcurrentLongest=max(longest,currentLongest,key=lambda x: x[1] - x[0])\n",
        "\treturn string[currentLongest[0]:currentLongest[1]]\n",
        "\n",
        "def getLongestPalindromeFrom(string,leftIdx,rightIdx):\n",
        "\twhile leftIdx>=0 and rightIdx<len(string):\n",
        "\t\tif string[leftIdx] != string[rightIdx]:\n",
        "\t\t\tbreak\n",
        "\t\tleftIdx -=1\n",
        "\t\trightIdx +=1\n",
        "\treturn [leftIdx+1,rightIdx]\n"
      ],
      "execution_count": 0,
      "outputs": []
    }
  ]
}