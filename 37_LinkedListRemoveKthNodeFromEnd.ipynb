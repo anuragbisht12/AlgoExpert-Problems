{
  "nbformat": 4,
  "nbformat_minor": 0,
  "metadata": {
    "colab": {
      "name": "LinkedListRemoveKthNodeFromEnd.ipynb",
      "provenance": [],
      "collapsed_sections": []
    },
    "kernelspec": {
      "name": "python3",
      "display_name": "Python 3"
    }
  },
  "cells": [
    {
      "cell_type": "code",
      "metadata": {
        "id": "PClVOFxXcF-Q",
        "colab_type": "code",
        "colab": {}
      },
      "source": [
        "# This is an input class. Do not edit.\n",
        "class LinkedList:\n",
        "    def __init__(self, value):\n",
        "        self.value = value\n",
        "        self.next = None\n",
        "\n",
        "#O(n) time | O(1) space\n",
        "def removeKthNodeFromEnd(head, k):\n",
        "  counter=1\n",
        "\tfirst=second=head\n",
        "\twhile counter<=k:\n",
        "\t\tsecond=second.next\n",
        "\t\tcounter+=1\n",
        "\tif second is None:\n",
        "\t\thead.value=head.next.value\n",
        "\t\thead.next=head.next.next\n",
        "\t\treturn \n",
        "\twhile second.next is not None:\n",
        "\t\tsecond=second.next\n",
        "\t\tfirst=first.next\n",
        "\tfirst.next=first.next.next\n"
      ],
      "execution_count": 0,
      "outputs": []
    }
  ]
}