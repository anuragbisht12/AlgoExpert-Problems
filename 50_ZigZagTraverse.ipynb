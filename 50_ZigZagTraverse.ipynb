{
  "nbformat": 4,
  "nbformat_minor": 0,
  "metadata": {
    "colab": {
      "name": "ZigZagTraverse.ipynb",
      "provenance": [],
      "collapsed_sections": []
    },
    "kernelspec": {
      "name": "python3",
      "display_name": "Python 3"
    }
  },
  "cells": [
    {
      "cell_type": "code",
      "metadata": {
        "id": "BDq1g0G2yMyO",
        "colab_type": "code",
        "colab": {}
      },
      "source": [
        "#O(n) time | O(n) space\n",
        "def zigzagTraverse(array):\n",
        "    height=len(array)-1\n",
        "\twidth=len(array[0])-1\n",
        "\tresult=[]\n",
        "\trow,col=0,0\n",
        "\tgoingDown =True\n",
        "\twhile not isOutOfBounds(row,col,height,width):\n",
        "\t\tresult.append(array[row][col])\n",
        "\t\tif goingDown:\n",
        "\t\t\tif col == 0 or row == height:\n",
        "\t\t\t\tgoingDown=False\n",
        "\t\t\t\tif row ==height:\n",
        "\t\t\t\t\tcol+=1\n",
        "\t\t\t\telse:\n",
        "\t\t\t\t\trow+=1\n",
        "\t\t\telse:\n",
        "\t\t\t\trow+=1\n",
        "\t\t\t\tcol-=1\n",
        "\t\telse:\n",
        "\t\t\tif row ==0 or col == width:\n",
        "\t\t\t\tgoingDown=True\n",
        "\t\t\t\tif col == width:\n",
        "\t\t\t\t\trow+=1\n",
        "\t\t\t\telse:\n",
        "\t\t\t\t\tcol+=1\n",
        "\t\t\telse:\n",
        "\t\t\t\trow-=1\n",
        "\t\t\t\tcol+=1\n",
        "\treturn result\n",
        "\n",
        "def isOutOfBounds(row,col,height,width):\n",
        "\treturn row < 0 or row > height or col <0 or col > width\n"
      ],
      "execution_count": 0,
      "outputs": []
    }
  ]
}