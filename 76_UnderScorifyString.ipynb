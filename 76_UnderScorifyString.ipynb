{
  "nbformat": 4,
  "nbformat_minor": 0,
  "metadata": {
    "colab": {
      "name": "76_UnderScorifyString.ipynb",
      "provenance": [],
      "collapsed_sections": []
    },
    "kernelspec": {
      "name": "python3",
      "display_name": "Python 3"
    }
  },
  "cells": [
    {
      "cell_type": "code",
      "metadata": {
        "id": "xBUdozhTCkN6",
        "colab_type": "code",
        "colab": {}
      },
      "source": [
        "# O(n*m) time | O(n) space\n",
        "\n",
        "\n",
        "def underscorifySubstring(string, substring):\n",
        "    locations = collapse(getLocations(string, substring))\n",
        "    return underscorify(string, locations)\n",
        "\n",
        "\n",
        "def getLocations(string, substring):\n",
        "\tlocations = []\n",
        "\tstartIdx = 0\n",
        "\twhile startIdx < len(string):\n",
        "\t\tnextIdx = string.find(substring, startIdx)\n",
        "\t\tif nextIdx != -1:\n",
        "\t\t\tlocations.append([nextIdx, nextIdx+len(substring)])\n",
        "\t\t\tstartIdx = nextIdx + 1\n",
        "\t\telse:\n",
        "\t\t\tbreak\n",
        "\treturn locations\n",
        "\n",
        "\n",
        "def collapse(locations):\n",
        "\tif not len(locations):\n",
        "\t\treturn locations\n",
        "\tnewLocations = [locations[0]]\n",
        "\tprevious = newLocations[0]\n",
        "\tfor i in range(1, len(locations)):\n",
        "\t\tcurrent = locations[i]\n",
        "\t\tif current[0] <= previous[1]:\n",
        "\t\t\tprevious[1] = current[1]\n",
        "\t\telse:\n",
        "\t\t\tnewLocations.append(current)\n",
        "\t\t\tprevious = current\n",
        "\treturn newLocations\n",
        "\n",
        "\n",
        "def underscorify(string, locations):\n",
        "\tlocationsIdx = 0\n",
        "\tstringIdx = 0\n",
        "\tinBetweenUnderscores = False\n",
        "\tfinalChars = []\n",
        "\ti = 0\n",
        "\twhile stringIdx < len(string) and locationsIdx < len(locations):\n",
        "\t\tif stringIdx == locations[locationsIdx][i]:\n",
        "\t\t\tfinalChars.append(\"_\")\n",
        "\t\t\tinBetweenUnderscores = not inBetweenUnderscores\n",
        "\t\t\tif not inBetweenUnderscores:\n",
        "\t\t\t\tlocationsIdx += 1\n",
        "\t\t\ti = 0 if i == 1 else 1\n",
        "\t\tfinalChars.append(string[stringIdx])\n",
        "\t\tstringIdx += 1\n",
        "\tif locationsIdx < len(locations):\n",
        "\t\tfinalChars.append(\"_\")\n",
        "\telif stringIdx < len(string):\n",
        "\t\tfinalChars.append(string[stringIdx:])\n",
        "\treturn \"\".join(finalChars)\n",
        "\n"
      ],
      "execution_count": null,
      "outputs": []
    }
  ]
}