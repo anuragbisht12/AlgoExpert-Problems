{
  "nbformat": 4,
  "nbformat_minor": 0,
  "metadata": {
    "colab": {
      "name": "SmallestDifference.ipynb",
      "provenance": []
    },
    "kernelspec": {
      "name": "python3",
      "display_name": "Python 3"
    }
  },
  "cells": [
    {
      "cell_type": "code",
      "metadata": {
        "id": "pq8LXZmCJsuQ",
        "colab_type": "code",
        "colab": {}
      },
      "source": [
        "def smallestDifference(arrayOne, arrayTwo):\n",
        "    # Write your code here.\n",
        "\tarrayOne.sort()\n",
        "\tarrayTwo.sort()\n",
        "\tidxOne=0\n",
        "\tidxTwo=0\n",
        "\tsmallest=float('inf')\t\n",
        "\tcurrent = float('inf')\n",
        "\tsmallestPair=[]\n",
        "\twhile idxOne < len(arrayOne) and idxTwo < len(arrayTwo):\n",
        "\t\tfirstNum = arrayOne[idxOne]\n",
        "\t\tsecondNum = arrayTwo[idxTwo]\n",
        "\t\tif firstNumm < secondNum:\n",
        "\t\t\tcurrent = secondNum -firstNum\n",
        "\t\t\tidxOne +=1\n",
        "\t\telif secondNum < firstNum:\n",
        "\t\t\tcurrent = firstNum - secondNum\n",
        "\t\t\tidxTwo +=1\n",
        "\t\telse:\n",
        "\t\t\treturn [firstNum,secondNum]\n",
        "\t\tif smallest > current:\n",
        "\t\t\tsmallest = current\n",
        "\t\t\tsmallestPair = [firstNum,secondNum]\n",
        "\treturn smallestPair\n",
        "\t\t\n",
        "\t\t\t\t"
      ],
      "execution_count": 0,
      "outputs": []
    }
  ]
}