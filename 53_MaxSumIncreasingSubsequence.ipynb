{
  "nbformat": 4,
  "nbformat_minor": 0,
  "metadata": {
    "colab": {
      "name": "MaxSumIncreasingSubsequence.ipynb",
      "provenance": [],
      "collapsed_sections": []
    },
    "kernelspec": {
      "name": "python3",
      "display_name": "Python 3"
    }
  },
  "cells": [
    {
      "cell_type": "code",
      "metadata": {
        "id": "LnXfoKqSq3l9",
        "colab_type": "code",
        "colab": {}
      },
      "source": [
        "#O(n^2) time | O(n) space\n",
        "def maxSumIncreasingSubsequence(array):\n",
        "    sequences=[None for x in array]\n",
        "\tsums=array[:]\n",
        "\tmaxSumIdx=0\n",
        "\tfor i in range(len(array)):\n",
        "\t\tcurrentNum =array[i]\n",
        "\t\tfor j in range(0,i):\n",
        "\t\t\totherNum=array[j]\n",
        "\t\t\tif otherNum < currentNum and sums[j]+currentNum >=sums[i]:\n",
        "\t\t\t\tsums[i]=sums[j]+ currentNum\n",
        "\t\t\t\tsequences[i] =j\n",
        "\t\t\tif sums[i] >=sums[maxSumIdx]:\n",
        "\t\t\t\tmaxSumIdx =i\n",
        "\treturn [sums[maxSumIdx],buildSequences(array,sequences,maxSumIdx)]\n",
        "\n",
        "def buildSequences(array, sequences,currentIdx):\n",
        "\tsequence=[]\n",
        "\twhile currentIdx is not None:\n",
        "\t\tsequence.append(array[currentIdx])\n",
        "\t\tcurrentIdx=sequences[currentIdx]\n",
        "\treturn list(reversed(sequence))\n"
      ],
      "execution_count": 0,
      "outputs": []
    }
  ]
}