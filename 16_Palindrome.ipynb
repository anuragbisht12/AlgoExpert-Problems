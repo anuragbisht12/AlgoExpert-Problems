{
  "nbformat": 4,
  "nbformat_minor": 0,
  "metadata": {
    "colab": {
      "name": "Palindrome.ipynb",
      "provenance": [],
      "collapsed_sections": []
    },
    "kernelspec": {
      "name": "python3",
      "display_name": "Python 3"
    }
  },
  "cells": [
    {
      "cell_type": "code",
      "metadata": {
        "id": "c0JXTW3tlyhM",
        "colab_type": "code",
        "colab": {}
      },
      "source": [
        "#O(n) time | O(1) space\n",
        "def isPalindrome(string):\n",
        "    leftIdx=0\n",
        "\trightIdx=len(string)-1\n",
        "\twhile leftIdx < rightIdx:\n",
        "\t\tif string[leftIdx] != string[rightIdx]:\n",
        "\t\t\treturn False\n",
        "\t\tleftIdx +=1\n",
        "\t\trightIdx -=1\n",
        "\treturn True"
      ],
      "execution_count": 0,
      "outputs": []
    }
  ]
}