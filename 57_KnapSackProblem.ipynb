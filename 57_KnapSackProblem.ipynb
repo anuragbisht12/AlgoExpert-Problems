{
  "nbformat": 4,
  "nbformat_minor": 0,
  "metadata": {
    "colab": {
      "name": "KnapSackProblem.ipynb",
      "provenance": [],
      "collapsed_sections": []
    },
    "kernelspec": {
      "name": "python3",
      "display_name": "Python 3"
    }
  },
  "cells": [
    {
      "cell_type": "code",
      "metadata": {
        "id": "YHSCntPnDFOA",
        "colab_type": "code",
        "colab": {}
      },
      "source": [
        "#O(nc) time | O(nc) space\n",
        "def knapsackProblem(items, capacity):\n",
        "    knapsackValues=[[0 for x in range(0,capacity+1)] for y in range(0,len(items)+1)]\n",
        "\tfor i in range(1,len(items)+1):\n",
        "\t\tcurrentWeight=items[i-1][1]\n",
        "\t\tcurrentValue=items[i-1][0]\n",
        "\t\tfor c in range(0,capacity+1):\n",
        "\t\t\tif currentWeight>c:\n",
        "\t\t\t\tknapsackValues[i][c]=knapsackValues[i-1][c]\n",
        "\t\t\telse:\n",
        "\t\t\t\tknapsackValues[i][c]=max(knapsackValues[i-1][c],knapsackValues[i-1][c-currentWeight]+currentValue)\n",
        "\treturn [knapsackValues[-1][-1],getKnapsackItems(knapsackValues,items)]\n",
        "\n",
        "def getKnapsackItems(knapsackValues,items):\n",
        "\tsequence=[]\n",
        "\ti=len(knapsackValues)-1\n",
        "\tc=len(knapsackValues[0])-1\n",
        "\twhile i>0:\n",
        "\t\tif knapsackValues[i][c]==knapsackValues[i-1][c]:\n",
        "\t\t\ti-=1\n",
        "\t\telse:\n",
        "\t\t\tsequence.append(i-1)\n",
        "\t\t\tc-=items[i-1][1]\n",
        "\t\t\ti-=1\n",
        "\t\tif c==0:\n",
        "\t\t\tbreak\n",
        "\treturn list(reversed(sequence))"
      ],
      "execution_count": 0,
      "outputs": []
    }
  ]
}